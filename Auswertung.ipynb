{
 "cells": [
  {
   "cell_type": "code",
   "execution_count": 2,
   "id": "d0d7c859-a5a7-4d21-b649-c9bc4946bd2f",
   "metadata": {},
   "outputs": [
    {
     "name": "stderr",
     "output_type": "stream",
     "text": [
      "Updating HTML index of packages in '.Library'\n",
      "\n",
      "Making 'packages.html' ...\n",
      " done\n",
      "\n"
     ]
    }
   ],
   "source": [
    "install.packages(\"epitools\")\n",
    "# install.packages(\"car\")"
   ]
  },
  {
   "cell_type": "code",
   "execution_count": 3,
   "id": "5b5d9932",
   "metadata": {},
   "outputs": [
    {
     "name": "stderr",
     "output_type": "stream",
     "text": [
      "\n",
      "Attaching package: ‘dplyr’\n",
      "\n",
      "\n",
      "The following objects are masked from ‘package:stats’:\n",
      "\n",
      "    filter, lag\n",
      "\n",
      "\n",
      "The following objects are masked from ‘package:base’:\n",
      "\n",
      "    intersect, setdiff, setequal, union\n",
      "\n",
      "\n"
     ]
    }
   ],
   "source": [
    "library(dplyr)\n",
    "library(stringr)\n",
    "library(ggplot2)\n",
    "library(epitools)\n",
    "# library(car)"
   ]
  },
  {
   "cell_type": "code",
   "execution_count": 4,
   "id": "26ef5722",
   "metadata": {},
   "outputs": [
    {
     "ename": "ERROR",
     "evalue": "Error in df == \"\": comparison (1) is possible only for atomic and list types\n",
     "output_type": "error",
     "traceback": [
      "Error in df == \"\": comparison (1) is possible only for atomic and list types\nTraceback:\n"
     ]
    }
   ],
   "source": [
    "survey_results <- read.csv(\"results_last.csv\")\n",
    "df[df==\"\"] <- NA\n",
    "df[df==\"NA\"] <- NA"
   ]
  },
  {
   "cell_type": "code",
   "execution_count": 5,
   "id": "302b45e7",
   "metadata": {},
   "outputs": [
    {
     "name": "stdout",
     "output_type": "stream",
     "text": [
      "Rows: 131\n",
      "Columns: 34\n",
      "$ Alter              \u001b[3m\u001b[90m<int>\u001b[39m\u001b[23m 20, 58, 26, 21, 23, 24, 21, 30, 72, 43, 44, NA, 23,…\n",
      "$ Gender             \u001b[3m\u001b[90m<chr>\u001b[39m\u001b[23m \"A1\", \"A2\", \"A2\", \"A1\", \"A2\", \"A1\", \"A1\", \"A1\", \"A1…\n",
      "$ Job                \u001b[3m\u001b[90m<chr>\u001b[39m\u001b[23m \"A2\", \"A3\", \"A2\", \"A2\", \"A2\", \"A3\", \"A2\", \"A2\", \"A3…\n",
      "$ Einkommen          \u001b[3m\u001b[90m<chr>\u001b[39m\u001b[23m \"A2\", \"A4\", \"A3\", \"A2\", \"\", \"A3\", \"A2\", \"A4\", \"A3\",…\n",
      "$ Bildung            \u001b[3m\u001b[90m<chr>\u001b[39m\u001b[23m \"A5\", \"A6\", \"A5\", \"A5\", \"A5\", \"A6\", \"A5\", \"A6\", \"A4…\n",
      "$ Pendel             \u001b[3m\u001b[90m<chr>\u001b[39m\u001b[23m \"A3\", \"A3\", \"A1\", \"A3\", \"A3\", \"A1\", \"A3\", \"A3\", \"A3…\n",
      "$ Pendel2            \u001b[3m\u001b[90m<chr>\u001b[39m\u001b[23m \"\", \"\", \"A4\", \"\", \"\", \"A1\", \"\", \"\", \"\", \"\", \"\", \"\",…\n",
      "$ Pendel2Sonst       \u001b[3m\u001b[90m<chr>\u001b[39m\u001b[23m \"\", \"\", \"\", \"\", \"\", \"\", \"\", \"\", \"\", \"\", \"\", \"\", \"\",…\n",
      "$ BahnhofHeim        \u001b[3m\u001b[90m<chr>\u001b[39m\u001b[23m \"\", \"\", \"Göttingen \", \"\", \"\", \"Ahrensburg\", \"\", \"\",…\n",
      "$ BahnhofZiel        \u001b[3m\u001b[90m<chr>\u001b[39m\u001b[23m \"\", \"\", \"Hannover\", \"\", \"\", \"Wandsbek-Gartenstadt\",…\n",
      "$ Ticket             \u001b[3m\u001b[90m<chr>\u001b[39m\u001b[23m \"\", \"\", \"A3\", \"\", \"\", \"A1\", \"\", \"\", \"\", \"\", \"\", \"\",…\n",
      "$ TicketSonst        \u001b[3m\u001b[90m<chr>\u001b[39m\u001b[23m \"\", \"\", \"\", \"\", \"\", \"\", \"\", \"\", \"\", \"\", \"\", \"\", \"\",…\n",
      "$ PaketeProJahr      \u001b[3m\u001b[90m<chr>\u001b[39m\u001b[23m \"A1\", \"A3\", \"A4\", \"A2\", \"A2\", \"A1\", \"A2\", \"A2\", \"A3…\n",
      "$ PaketPlatformen    \u001b[3m\u001b[90m<chr>\u001b[39m\u001b[23m \"\", \"A2\", \"A1\", \"A2\", \"A1\", \"\", \"A2\", \"A2\", \"A2\", \"…\n",
      "$ PreisBisher        \u001b[3m\u001b[90m<chr>\u001b[39m\u001b[23m \"\", \"A3\", \"A2\", \"A3\", \"A3\", \"\", \"A1\", \"A3\", \"A3\", \"…\n",
      "$ PreisEinschätzung  \u001b[3m\u001b[90m<chr>\u001b[39m\u001b[23m \"\", \"A2\", \"A3\", \"A2\", \"A2\", \"\", \"A3\", \"A2\", \"A2\", \"…\n",
      "$ AufNachhaltig      \u001b[3m\u001b[90m<chr>\u001b[39m\u001b[23m \"A2\", \"A1\", \"A1\", \"A1\", \"A1\", \"A1\", \"A2\", \"A2\", \"A2…\n",
      "$ AufNachhaltigMenge \u001b[3m\u001b[90m<chr>\u001b[39m\u001b[23m \"\", \"A4\", \"A4\", \"A2\", \"A3\", \"A2\", \"\", \"\", \"\", \"A2\",…\n",
      "$ GeschwBisher       \u001b[3m\u001b[90m<chr>\u001b[39m\u001b[23m \"\", \"A3\", \"A3\", \"A3\", \"A3\", \"\", \"A3\", \"A2\", \"A3\", \"…\n",
      "$ AufGeschw          \u001b[3m\u001b[90m<chr>\u001b[39m\u001b[23m \"\", \"A1\", \"A1\", \"A1\", \"A2\", \"\", \"A2\", \"A1\", \"A2\", \"…\n",
      "$ AufGeschwMenge     \u001b[3m\u001b[90m<chr>\u001b[39m\u001b[23m \"\", \"A3\", \"A4\", \"A4\", \"\", \"\", \"\", \"A3\", \"\", \"\", \"\",…\n",
      "$ Versicherung       \u001b[3m\u001b[90m<chr>\u001b[39m\u001b[23m \"\", \"A1\", \"A1\", \"A2\", \"-oth-\", \"\", \"A1\", \"A2\", \"A3\"…\n",
      "$ VersicherungSonst  \u001b[3m\u001b[90m<chr>\u001b[39m\u001b[23m \"\", \"\", \"\", \"\", \"kommt auf den Inhalt drauf an\", \"\"…\n",
      "$ App                \u001b[3m\u001b[90m<chr>\u001b[39m\u001b[23m \"\", \"A1\", \"A2\", \"A1\", \"A2\", \"\", \"A2\", \"A1\", \"A2\", \"…\n",
      "$ Tracking           \u001b[3m\u001b[90m<chr>\u001b[39m\u001b[23m \"\", \"A3\", \"A2\", \"A2\", \"A2\", \"\", \"A3\", \"A1\", \"A2\", \"…\n",
      "$ Abholen            \u001b[3m\u001b[90m<chr>\u001b[39m\u001b[23m \"A2\", \"A1\", \"A1\", \"A1\", \"A2\", \"A1\", \"A2\", \"A1\", \"A1…\n",
      "$ GrundNichtAbholen  \u001b[3m\u001b[90m<chr>\u001b[39m\u001b[23m \"\", \"\", \"\", \"\", \"zu weit weg, zu viel Aufwand\", \"\",…\n",
      "$ Transport          \u001b[3m\u001b[90m<chr>\u001b[39m\u001b[23m \"A2\", \"A2\", \"A2\", \"A1\", \"A1\", \"A1\", \"A2\", \"A1\", \"A1…\n",
      "$ TransportSpende    \u001b[3m\u001b[90m<chr>\u001b[39m\u001b[23m \"\", \"\", \"\", \"A3\", \"A3\", \"A4\", \"\", \"A4\", \"A3\", \"A1\",…\n",
      "$ TransportGeld      \u001b[3m\u001b[90m<dbl>\u001b[39m\u001b[23m NA, NA, NA, 5, 5, 5, NA, 10, 5, 3, 10, NA, 7, 5, NA…\n",
      "$ TransportNeinGrund \u001b[3m\u001b[90m<chr>\u001b[39m\u001b[23m \"Zuviel Aufwand und wahrscheinlich zu geringe Entlo…\n",
      "$ TransportBoni      \u001b[3m\u001b[90m<chr>\u001b[39m\u001b[23m \"\", \"\", \"\", \"A1\", \"A1\", \"A1\", \"\", \"A1\", \"A1\", \"A1\",…\n",
      "$ Kommentare         \u001b[3m\u001b[90m<chr>\u001b[39m\u001b[23m \"\", \"\", \"\", \"\", \"\", \"\", \"\", \"\", \"\", \"\", \"Wichtig is…\n",
      "$ Email              \u001b[3m\u001b[90m<chr>\u001b[39m\u001b[23m \"\", \"\", \"\", \"\", \"email\", \"\", \"\", \"\", \"\", \"\", \"\", \"\"…\n"
     ]
    }
   ],
   "source": [
    "df <- survey_results[8:41]\n",
    "realNames <- c(\"Alter\",\"Gender\",\"Job\",\"Einkommen\",\"Bildung\",\"Pendel\",\"Pendel2\",\n",
    "                  \"Pendel2Sonst\",\"BahnhofHeim\",\"BahnhofZiel\",\"Ticket\",\"TicketSonst\", \n",
    "                  \"PaketeProJahr\",\"PaketPlatformen\",\"PreisBisher\",\"PreisEinschätzung\", \n",
    "                  \"AufNachhaltig\",\"AufNachhaltigMenge\",\"GeschwBisher\", \"AufGeschw\", \n",
    "                  \"AufGeschwMenge\",\"Versicherung\", \"VersicherungSonst\", \"App\",\n",
    "                  \"Tracking\",\"Abholen\",\"GrundNichtAbholen\",\"Transport\", \n",
    "                  \"TransportSpende\",\"TransportGeld\",\"TransportNeinGrund\",\n",
    "                  \"TransportBoni\",\"Kommentare\",\"Email\")\n",
    "colnames(df) <- realNames\n",
    "glimpse(df)"
   ]
  },
  {
   "cell_type": "code",
   "execution_count": 10,
   "id": "097b2322-f260-4427-8046-f95958cd93d6",
   "metadata": {},
   "outputs": [
    {
     "data": {
      "text/plain": [
       "\n",
       "   NA   Nie    <5  5-10 10-30   >30 \n",
       "   20    23    52    25     9     2 "
      ]
     },
     "metadata": {},
     "output_type": "display_data"
    },
    {
     "data": {
      "text/html": [
       "<table class=\"dataframe\">\n",
       "<caption>A data.frame: 6 × 5</caption>\n",
       "<thead>\n",
       "\t<tr><th scope=col>Var1</th><th scope=col>Freq</th><th scope=col>relFreq</th><th scope=col>groupMid</th><th scope=col>mult</th></tr>\n",
       "\t<tr><th scope=col>&lt;fct&gt;</th><th scope=col>&lt;int&gt;</th><th scope=col>&lt;dbl&gt;</th><th scope=col>&lt;dbl&gt;</th><th scope=col>&lt;dbl&gt;</th></tr>\n",
       "</thead>\n",
       "<tbody>\n",
       "\t<tr><td>NA   </td><td>20</td><td>0.18018018</td><td> 0.0</td><td>0.0000000</td></tr>\n",
       "\t<tr><td>Nie  </td><td>23</td><td>0.20720721</td><td> 0.0</td><td>0.0000000</td></tr>\n",
       "\t<tr><td><span style=white-space:pre-wrap>&lt;5   </span></td><td>52</td><td>0.46846847</td><td> 2.5</td><td>1.1711712</td></tr>\n",
       "\t<tr><td>5-10 </td><td>25</td><td>0.22522523</td><td> 7.5</td><td>1.6891892</td></tr>\n",
       "\t<tr><td>10-30</td><td> 9</td><td>0.08108108</td><td>20.0</td><td>1.6216216</td></tr>\n",
       "\t<tr><td><span style=white-space:pre-wrap>&gt;30  </span></td><td> 2</td><td>0.01801802</td><td>30.0</td><td>0.5405405</td></tr>\n",
       "</tbody>\n",
       "</table>\n"
      ],
      "text/latex": [
       "A data.frame: 6 × 5\n",
       "\\begin{tabular}{lllll}\n",
       " Var1 & Freq & relFreq & groupMid & mult\\\\\n",
       " <fct> & <int> & <dbl> & <dbl> & <dbl>\\\\\n",
       "\\hline\n",
       "\t NA    & 20 & 0.18018018 &  0.0 & 0.0000000\\\\\n",
       "\t Nie   & 23 & 0.20720721 &  0.0 & 0.0000000\\\\\n",
       "\t <5    & 52 & 0.46846847 &  2.5 & 1.1711712\\\\\n",
       "\t 5-10  & 25 & 0.22522523 &  7.5 & 1.6891892\\\\\n",
       "\t 10-30 &  9 & 0.08108108 & 20.0 & 1.6216216\\\\\n",
       "\t >30   &  2 & 0.01801802 & 30.0 & 0.5405405\\\\\n",
       "\\end{tabular}\n"
      ],
      "text/markdown": [
       "\n",
       "A data.frame: 6 × 5\n",
       "\n",
       "| Var1 &lt;fct&gt; | Freq &lt;int&gt; | relFreq &lt;dbl&gt; | groupMid &lt;dbl&gt; | mult &lt;dbl&gt; |\n",
       "|---|---|---|---|---|\n",
       "| NA    | 20 | 0.18018018 |  0.0 | 0.0000000 |\n",
       "| Nie   | 23 | 0.20720721 |  0.0 | 0.0000000 |\n",
       "| &lt;5    | 52 | 0.46846847 |  2.5 | 1.1711712 |\n",
       "| 5-10  | 25 | 0.22522523 |  7.5 | 1.6891892 |\n",
       "| 10-30 |  9 | 0.08108108 | 20.0 | 1.6216216 |\n",
       "| &gt;30   |  2 | 0.01801802 | 30.0 | 0.5405405 |\n",
       "\n"
      ],
      "text/plain": [
       "  Var1  Freq relFreq    groupMid mult     \n",
       "1 NA    20   0.18018018  0.0     0.0000000\n",
       "2 Nie   23   0.20720721  0.0     0.0000000\n",
       "3 <5    52   0.46846847  2.5     1.1711712\n",
       "4 5-10  25   0.22522523  7.5     1.6891892\n",
       "5 10-30  9   0.08108108 20.0     1.6216216\n",
       "6 >30    2   0.01801802 30.0     0.5405405"
      ]
     },
     "metadata": {},
     "output_type": "display_data"
    },
    {
     "data": {
      "text/html": [
       "5.02"
      ],
      "text/latex": [
       "5.02"
      ],
      "text/markdown": [
       "5.02"
      ],
      "text/plain": [
       "[1] 5.02"
      ]
     },
     "metadata": {},
     "output_type": "display_data"
    },
    {
     "data": {
      "image/png": "[encoded data removed]",
      "text/plain": [
       "plot without title"
      ]
     },
     "metadata": {
      "image/png": {
       "height": 420,
       "width": 420
      }
     },
     "output_type": "display_data"
    }
   ],
   "source": [
    "df$PaketeProJahr <- as.factor(df$PaketeProJahr)\n",
    "levels(df$PaketeProJahr) <- c(\"NA\", \"Nie\", \"<5\", \"5-10\", \"10-30\", \">30\")\n",
    "table(df$PaketeProJahr)\n",
    "\n",
    "t <- as.data.frame(table(df$PaketeProJahr))\n",
    "\n",
    "n <- sum(df$PaketeProJahr != \"NA\")\n",
    "t$relFreq <- t$Freq/n\n",
    "t$groupMid <- c(0, 0, 2.5, 7.5, 20, 30)\n",
    "t$mult <- t$relFreq*t$groupMid\n",
    "t\n",
    "AvgProJahr <- round(sum(t$mult), 2)\n",
    "AvgProJahr\n",
    "\n",
    "ggplot(subset(df, PaketeProJahr!=\"NA\"), aes(PaketeProJahr)) + geom_bar()"
   ]
  },
  {
   "cell_type": "markdown",
   "id": "73490f58",
   "metadata": {},
   "source": [
    "# Auswertung (Teilnehmer):"
   ]
  },
  {
   "cell_type": "code",
   "execution_count": 6,
   "id": "14a31dce",
   "metadata": {},
   "outputs": [
    {
     "name": "stderr",
     "output_type": "stream",
     "text": [
      "Warning message:\n",
      "“Removed 17 rows containing non-finite values (stat_bin).”\n"
     ]
    },
    {
     "data": {
      "image/png": "[encoded data removed]",
      "text/plain": [
       "plot without title"
      ]
     },
     "metadata": {
      "image/png": {
       "height": 420,
       "width": 420
      }
     },
     "output_type": "display_data"
    }
   ],
   "source": [
    "ggplot(df, aes(Alter)) + geom_histogram(bins = 15)"
   ]
  },
  {
   "cell_type": "code",
   "execution_count": 7,
   "id": "679a22d8",
   "metadata": {},
   "outputs": [
    {
     "data": {
      "text/plain": [
       "\n",
       "    NA   Male Female \n",
       "    17     74     40 "
      ]
     },
     "metadata": {},
     "output_type": "display_data"
    },
    {
     "data": {
      "image/png": "[encoded data removed]",
      "text/plain": [
       "plot without title"
      ]
     },
     "metadata": {
      "image/png": {
       "height": 420,
       "width": 420
      }
     },
     "output_type": "display_data"
    }
   ],
   "source": [
    "df$Gender <- as.factor(df$Gender)\n",
    "levels(df$Gender) <- c(\"NA\", \"Male\", \"Female\")  # \"Divers\" hatte keine Einträge\n",
    "table(df$Gender)\n",
    "ggplot(df, aes(Gender)) + geom_bar()"
   ]
  },
  {
   "cell_type": "code",
   "execution_count": 31,
   "id": "7bf3391e",
   "metadata": {},
   "outputs": [
    {
     "data": {
      "text/html": [
       "<table class=\"dataframe\">\n",
       "<caption>A data.frame: 6 × 5</caption>\n",
       "<thead>\n",
       "\t<tr><th scope=col>Var1</th><th scope=col>Freq</th><th scope=col>relFreq</th><th scope=col>groupMid</th><th scope=col>mult</th></tr>\n",
       "\t<tr><th scope=col>&lt;fct&gt;</th><th scope=col>&lt;int&gt;</th><th scope=col>&lt;dbl&gt;</th><th scope=col>&lt;dbl&gt;</th><th scope=col>&lt;dbl&gt;</th></tr>\n",
       "</thead>\n",
       "<tbody>\n",
       "\t<tr><td>NA       </td><td> 7</td><td>0.06603774</td><td>   0</td><td>  0.00000</td></tr>\n",
       "\t<tr><td><span style=white-space:pre-wrap>&lt;500     </span></td><td>20</td><td>0.18867925</td><td> 250</td><td> 47.16981</td></tr>\n",
       "\t<tr><td>500-1000 </td><td>37</td><td>0.34905660</td><td> 750</td><td>261.79245</td></tr>\n",
       "\t<tr><td>1000-1500</td><td>11</td><td>0.10377358</td><td>1250</td><td>129.71698</td></tr>\n",
       "\t<tr><td>1500-2500</td><td> 9</td><td>0.08490566</td><td>2000</td><td>169.81132</td></tr>\n",
       "\t<tr><td><span style=white-space:pre-wrap>&gt;2500    </span></td><td> 9</td><td>0.08490566</td><td>2500</td><td>212.26415</td></tr>\n",
       "</tbody>\n",
       "</table>\n"
      ],
      "text/latex": [
       "A data.frame: 6 × 5\n",
       "\\begin{tabular}{lllll}\n",
       " Var1 & Freq & relFreq & groupMid & mult\\\\\n",
       " <fct> & <int> & <dbl> & <dbl> & <dbl>\\\\\n",
       "\\hline\n",
       "\t NA        &  7 & 0.06603774 &    0 &   0.00000\\\\\n",
       "\t <500      & 20 & 0.18867925 &  250 &  47.16981\\\\\n",
       "\t 500-1000  & 37 & 0.34905660 &  750 & 261.79245\\\\\n",
       "\t 1000-1500 & 11 & 0.10377358 & 1250 & 129.71698\\\\\n",
       "\t 1500-2500 &  9 & 0.08490566 & 2000 & 169.81132\\\\\n",
       "\t >2500     &  9 & 0.08490566 & 2500 & 212.26415\\\\\n",
       "\\end{tabular}\n"
      ],
      "text/markdown": [
       "\n",
       "A data.frame: 6 × 5\n",
       "\n",
       "| Var1 &lt;fct&gt; | Freq &lt;int&gt; | relFreq &lt;dbl&gt; | groupMid &lt;dbl&gt; | mult &lt;dbl&gt; |\n",
       "|---|---|---|---|---|\n",
       "| NA        |  7 | 0.06603774 |    0 |   0.00000 |\n",
       "| &lt;500      | 20 | 0.18867925 |  250 |  47.16981 |\n",
       "| 500-1000  | 37 | 0.34905660 |  750 | 261.79245 |\n",
       "| 1000-1500 | 11 | 0.10377358 | 1250 | 129.71698 |\n",
       "| 1500-2500 |  9 | 0.08490566 | 2000 | 169.81132 |\n",
       "| &gt;2500     |  9 | 0.08490566 | 2500 | 212.26415 |\n",
       "\n"
      ],
      "text/plain": [
       "  Var1      Freq relFreq    groupMid mult     \n",
       "1 NA         7   0.06603774    0       0.00000\n",
       "2 <500      20   0.18867925  250      47.16981\n",
       "3 500-1000  37   0.34905660  750     261.79245\n",
       "4 1000-1500 11   0.10377358 1250     129.71698\n",
       "5 1500-2500  9   0.08490566 2000     169.81132\n",
       "6 >2500      9   0.08490566 2500     212.26415"
      ]
     },
     "metadata": {},
     "output_type": "display_data"
    },
    {
     "name": "stdout",
     "output_type": "stream",
     "text": [
      "[1] \"Einkommen (Arithmetisches Mittel bei gruppierten Daten):\"\n"
     ]
    },
    {
     "data": {
      "text/html": [
       "820.75"
      ],
      "text/latex": [
       "820.75"
      ],
      "text/markdown": [
       "820.75"
      ],
      "text/plain": [
       "[1] 820.75"
      ]
     },
     "metadata": {},
     "output_type": "display_data"
    },
    {
     "data": {
      "image/png": "[encoded data removed]",
      "text/plain": [
       "plot without title"
      ]
     },
     "metadata": {
      "image/png": {
       "height": 420,
       "width": 420
      }
     },
     "output_type": "display_data"
    }
   ],
   "source": [
    "df$Einkommen <- as.factor(df$Einkommen)\n",
    "levels(df$Einkommen) <- c(\"NA\", \"<500\", \"500-1000\", \"1000-1500\", \"1500-2500\", \">2500\")\n",
    "# table(df$Einkommen)\n",
    "\n",
    "t <- as.data.frame(table(subset(df, Alter<30)$Einkommen))\n",
    "\n",
    "n <- sum(df$Einkommen != \"NA\")\n",
    "t$relFreq <- t$Freq/n\n",
    "t$groupMid <- c(0, 250, 750, 1250, 2000, 2500)\n",
    "t$mult <- t$relFreq*t$groupMid\n",
    "t\n",
    "print(\"Einkommen der unter 30 Jährigen (Arithmetisches Mittel bei gruppierten Daten):\")\n",
    "mittelEK <- round(sum(t$mult), 2)\n",
    "mittelEK\n",
    "\n",
    "\n",
    "ggplot(subset(df, Einkommen!=\"NA\"), aes(Einkommen)) + geom_bar()"
   ]
  },
  {
   "cell_type": "code",
   "execution_count": 9,
   "id": "67481b87",
   "metadata": {},
   "outputs": [
    {
     "data": {
      "text/plain": [
       "\n",
       "    NA    Zug Anders   Nein \n",
       "    17     12     13     89 "
      ]
     },
     "metadata": {},
     "output_type": "display_data"
    },
    {
     "name": "stdout",
     "output_type": "stream",
     "text": [
      "[1] \"Anteil zugfahrende Pendler:\"\n"
     ]
    },
    {
     "data": {
      "text/html": [
       "0.105263157894737"
      ],
      "text/latex": [
       "0.105263157894737"
      ],
      "text/markdown": [
       "0.105263157894737"
      ],
      "text/plain": [
       "[1] 0.1052632"
      ]
     },
     "metadata": {},
     "output_type": "display_data"
    },
    {
     "data": {
      "text/plain": [
       "\n",
       "       NA     Sonst     Monat      Jahr Studenten \n",
       "      119         7         2         1         2 "
      ]
     },
     "metadata": {},
     "output_type": "display_data"
    },
    {
     "name": "stdout",
     "output_type": "stream",
     "text": [
      "[1] \"Anteil Studententickets (sehr wenige Daten):\"\n"
     ]
    },
    {
     "data": {
      "text/html": [
       "0.166666666666667"
      ],
      "text/latex": [
       "0.166666666666667"
      ],
      "text/markdown": [
       "0.166666666666667"
      ],
      "text/plain": [
       "[1] 0.1666667"
      ]
     },
     "metadata": {},
     "output_type": "display_data"
    },
    {
     "data": {
      "text/html": [
       "<style>\n",
       ".list-inline {list-style: none; margin:0; padding: 0}\n",
       ".list-inline>li {display: inline-block}\n",
       ".list-inline>li:not(:last-child)::after {content: \"\\00b7\"; padding: 0 .5ex}\n",
       "</style>\n",
       "<ol class=list-inline><li>''</li><li>'Bahncard 50'</li><li>'BahnCard50 und Landesticket '</li><li>'Einzelfahrkarte'</li><li>'Einzelticket'</li><li>'ICE mit Bahncard 50'</li><li>'Jobticket'</li></ol>\n"
      ],
      "text/latex": [
       "\\begin{enumerate*}\n",
       "\\item ''\n",
       "\\item 'Bahncard 50'\n",
       "\\item 'BahnCard50 und Landesticket '\n",
       "\\item 'Einzelfahrkarte'\n",
       "\\item 'Einzelticket'\n",
       "\\item 'ICE mit Bahncard 50'\n",
       "\\item 'Jobticket'\n",
       "\\end{enumerate*}\n"
      ],
      "text/markdown": [
       "1. ''\n",
       "2. 'Bahncard 50'\n",
       "3. 'BahnCard50 und Landesticket '\n",
       "4. 'Einzelfahrkarte'\n",
       "5. 'Einzelticket'\n",
       "6. 'ICE mit Bahncard 50'\n",
       "7. 'Jobticket'\n",
       "\n",
       "\n"
      ],
      "text/plain": [
       "[1] \"\"                             \"Bahncard 50\"                 \n",
       "[3] \"BahnCard50 und Landesticket \" \"Einzelfahrkarte\"             \n",
       "[5] \"Einzelticket\"                 \"ICE mit Bahncard 50\"         \n",
       "[7] \"Jobticket\"                   "
      ]
     },
     "metadata": {},
     "output_type": "display_data"
    }
   ],
   "source": [
    "# Viele Pendler?\n",
    "df$Pendel <- as.factor(df$Pendel)\n",
    "levels(df$Pendel) <- c(\"NA\", \"Zug\", \"Anders\", \"Nein\")\n",
    "table(df$Pendel)\n",
    "\n",
    "anteilZug <- sum(df$Pendel == \"Zug\")/sum(df$Pendel != \"NA\")\n",
    "print(\"Anteil zugfahrende Pendler:\")\n",
    "anteilZug\n",
    "\n",
    "df$Ticket <- as.factor(df$Ticket)\n",
    "levels(df$Ticket) <- c(\"NA\", \"Sonst\", \"Monat\", \"Jahr\", \"Studenten\")\n",
    "table(df$Ticket)\n",
    "print(\"Anteil Studententickets (sehr wenige Daten):\")\n",
    "sum(df$Ticket == \"Studenten\")/sum(df$Ticket != \"NA\") # EXTREM wenige Daten -> nicht aussagekräftig\n",
    "\n",
    "df$TicketSonst <- as.factor(df$TicketSonst)\n",
    "levels(df$TicketSonst)\n"
   ]
  },
  {
   "cell_type": "markdown",
   "id": "8d354a7f",
   "metadata": {},
   "source": [
    "# Auswertung (zentrale Daten):"
   ]
  },
  {
   "cell_type": "code",
   "execution_count": 10,
   "id": "baff9ea4",
   "metadata": {},
   "outputs": [
    {
     "data": {
      "text/html": [
       "<table class=\"dataframe\">\n",
       "<caption>A data.frame: 6 × 5</caption>\n",
       "<thead>\n",
       "\t<tr><th scope=col>Var1</th><th scope=col>Freq</th><th scope=col>relFreq</th><th scope=col>groupMid</th><th scope=col>mult</th></tr>\n",
       "\t<tr><th scope=col>&lt;fct&gt;</th><th scope=col>&lt;int&gt;</th><th scope=col>&lt;dbl&gt;</th><th scope=col>&lt;dbl&gt;</th><th scope=col>&lt;dbl&gt;</th></tr>\n",
       "</thead>\n",
       "<tbody>\n",
       "\t<tr><td>NA  </td><td>43</td><td>0.48863636</td><td> 0</td><td>0.00000000</td></tr>\n",
       "\t<tr><td><span style=white-space:pre-wrap>&lt;2  </span></td><td> 6</td><td>0.06818182</td><td> 1</td><td>0.06818182</td></tr>\n",
       "\t<tr><td>2-4 </td><td>27</td><td>0.30681818</td><td> 3</td><td>0.92045455</td></tr>\n",
       "\t<tr><td>4-8 </td><td>49</td><td>0.55681818</td><td> 6</td><td>3.34090909</td></tr>\n",
       "\t<tr><td>8-14</td><td> 4</td><td>0.04545455</td><td>11</td><td>0.50000000</td></tr>\n",
       "\t<tr><td>&gt;14 </td><td> 2</td><td>0.02272727</td><td>14</td><td>0.31818182</td></tr>\n",
       "</tbody>\n",
       "</table>\n"
      ],
      "text/latex": [
       "A data.frame: 6 × 5\n",
       "\\begin{tabular}{lllll}\n",
       " Var1 & Freq & relFreq & groupMid & mult\\\\\n",
       " <fct> & <int> & <dbl> & <dbl> & <dbl>\\\\\n",
       "\\hline\n",
       "\t NA   & 43 & 0.48863636 &  0 & 0.00000000\\\\\n",
       "\t <2   &  6 & 0.06818182 &  1 & 0.06818182\\\\\n",
       "\t 2-4  & 27 & 0.30681818 &  3 & 0.92045455\\\\\n",
       "\t 4-8  & 49 & 0.55681818 &  6 & 3.34090909\\\\\n",
       "\t 8-14 &  4 & 0.04545455 & 11 & 0.50000000\\\\\n",
       "\t >14  &  2 & 0.02272727 & 14 & 0.31818182\\\\\n",
       "\\end{tabular}\n"
      ],
      "text/markdown": [
       "\n",
       "A data.frame: 6 × 5\n",
       "\n",
       "| Var1 &lt;fct&gt; | Freq &lt;int&gt; | relFreq &lt;dbl&gt; | groupMid &lt;dbl&gt; | mult &lt;dbl&gt; |\n",
       "|---|---|---|---|---|\n",
       "| NA   | 43 | 0.48863636 |  0 | 0.00000000 |\n",
       "| &lt;2   |  6 | 0.06818182 |  1 | 0.06818182 |\n",
       "| 2-4  | 27 | 0.30681818 |  3 | 0.92045455 |\n",
       "| 4-8  | 49 | 0.55681818 |  6 | 3.34090909 |\n",
       "| 8-14 |  4 | 0.04545455 | 11 | 0.50000000 |\n",
       "| &gt;14  |  2 | 0.02272727 | 14 | 0.31818182 |\n",
       "\n"
      ],
      "text/plain": [
       "  Var1 Freq relFreq    groupMid mult      \n",
       "1 NA   43   0.48863636  0       0.00000000\n",
       "2 <2    6   0.06818182  1       0.06818182\n",
       "3 2-4  27   0.30681818  3       0.92045455\n",
       "4 4-8  49   0.55681818  6       3.34090909\n",
       "5 8-14  4   0.04545455 11       0.50000000\n",
       "6 >14   2   0.02272727 14       0.31818182"
      ]
     },
     "metadata": {},
     "output_type": "display_data"
    },
    {
     "name": "stdout",
     "output_type": "stream",
     "text": [
      "[1] \"Bisheriger Preis (Arithmetisches Mittel bei gruppierten Daten):\"\n"
     ]
    },
    {
     "data": {
      "text/html": [
       "5.15"
      ],
      "text/latex": [
       "5.15"
      ],
      "text/markdown": [
       "5.15"
      ],
      "text/plain": [
       "[1] 5.15"
      ]
     },
     "metadata": {},
     "output_type": "display_data"
    },
    {
     "name": "stdout",
     "output_type": "stream",
     "text": [
      "[1] \"Einschätzung bisheriger Preise\"\n"
     ]
    },
    {
     "data": {
      "text/plain": [
       "\n",
       "   A1 A2 A3 A4 \n",
       "44  5 39 40  3 "
      ]
     },
     "metadata": {},
     "output_type": "display_data"
    }
   ],
   "source": [
    "# Analyse von bisherigen Preisen\n",
    "df$PreisBisher <- as.factor(df$PreisBisher)\n",
    "levels(df$PreisBisher) <- c(\"NA\", \"<2\", \"2-4\", \"4-8\", \"8-14\", \">14\")\n",
    "t <- as.data.frame(table(df$PreisBisher))\n",
    "\n",
    "n <- sum(df$PreisBisher != \"NA\")\n",
    "t$relFreq <- t$Freq/n\n",
    "t$groupMid <- c(0, 1, 3, 6, 11, 14)\n",
    "t$mult <- t$relFreq*t$groupMid\n",
    "t\n",
    "print(\"Bisheriger Preis (Arithmetisches Mittel bei gruppierten Daten):\")\n",
    "mittelPreisBisher <- round(sum(t$mult), 2)\n",
    "mittelPreisBisher\n",
    "\n",
    "print(\"Einschätzung bisheriger Preise\")\n",
    "levels(df$PreisEinschätzung) <- c(\"NA\", \"teuer\", \"etw teuer\", \"gut\", \"etw billig\", \"billig\")\n",
    "table(df$PreisEinschätzung)"
   ]
  },
  {
   "cell_type": "code",
   "execution_count": 11,
   "id": "d327ac04",
   "metadata": {},
   "outputs": [
    {
     "data": {
      "text/plain": [
       "\n",
       "  NA   Ja Nein \n",
       "  21   74   36 "
      ]
     },
     "metadata": {},
     "output_type": "display_data"
    },
    {
     "name": "stdout",
     "output_type": "stream",
     "text": [
      "[1] \"Würden mehr bezahlen (Anteil):\"\n"
     ]
    },
    {
     "data": {
      "text/html": [
       "0.67"
      ],
      "text/latex": [
       "0.67"
      ],
      "text/markdown": [
       "0.67"
      ],
      "text/plain": [
       "[1] 0.67"
      ]
     },
     "metadata": {},
     "output_type": "display_data"
    },
    {
     "name": "stdout",
     "output_type": "stream",
     "text": [
      "[1] \"Als Anzahl von Studierenden in Göttingen:\"\n"
     ]
    },
    {
     "data": {
      "text/html": [
       "20855"
      ],
      "text/latex": [
       "20855"
      ],
      "text/markdown": [
       "20855"
      ],
      "text/plain": [
       "[1] 20855"
      ]
     },
     "metadata": {},
     "output_type": "display_data"
    },
    {
     "data": {
      "image/png": "[encoded data removed]",
      "text/plain": [
       "plot without title"
      ]
     },
     "metadata": {
      "image/png": {
       "height": 420,
       "width": 420
      }
     },
     "output_type": "display_data"
    }
   ],
   "source": [
    "# Analyse von Aufschlag für Nachhaltigkeit\n",
    "df$AufNachhaltig <- as.factor(df$AufNachhaltig)\n",
    "levels(df$AufNachhaltig) <- c(\"NA\", \"Ja\", \"Nein\")\n",
    "\n",
    "table(df$AufNachhaltig)\n",
    "n = sum(df$AufNachhaltig != \"NA\")\n",
    "print(\"Würden mehr bezahlen (Anteil):\")\n",
    "jaAnteil = sum(df$AufNachhaltig == \"Ja\")/n\n",
    "round(jaAnteil, 2)\n",
    "\n",
    "zahlStudierende = 31000  # Quelle: https://www.uni-goettingen.de/de/zahlen+-+daten+-+fakten/626482.html (2019/2020)\n",
    "vltInteressiert = zahlStudierende*jaAnteil\n",
    "print(\"Als Anzahl von Studierenden in Göttingen:\")\n",
    "round(vltInteressiert)\n",
    "\n",
    "ggplot(subset(df, AufNachhaltig!=\"NA\"), aes(AufNachhaltig)) + geom_bar()"
   ]
  },
  {
   "cell_type": "code",
   "execution_count": 12,
   "id": "c8af5ade",
   "metadata": {},
   "outputs": [
    {
     "data": {
      "text/html": [
       "<table class=\"dataframe\">\n",
       "<caption>A data.frame: 6 × 5</caption>\n",
       "<thead>\n",
       "\t<tr><th scope=col>Var1</th><th scope=col>Freq</th><th scope=col>relFreq</th><th scope=col>groupMid</th><th scope=col>mult</th></tr>\n",
       "\t<tr><th scope=col>&lt;fct&gt;</th><th scope=col>&lt;int&gt;</th><th scope=col>&lt;dbl&gt;</th><th scope=col>&lt;dbl&gt;</th><th scope=col>&lt;dbl&gt;</th></tr>\n",
       "</thead>\n",
       "<tbody>\n",
       "\t<tr><td>NA   </td><td> 0</td><td>0.00000000</td><td>0.00</td><td>0.00000000</td></tr>\n",
       "\t<tr><td>&lt;0,5 </td><td> 3</td><td>0.04054054</td><td>0.25</td><td>0.01013514</td></tr>\n",
       "\t<tr><td>0,5-1</td><td>19</td><td>0.25675676</td><td>0.75</td><td>0.19256757</td></tr>\n",
       "\t<tr><td>1-2  </td><td>25</td><td>0.33783784</td><td>1.50</td><td>0.50675676</td></tr>\n",
       "\t<tr><td>2-3  </td><td>21</td><td>0.28378378</td><td>2.50</td><td>0.70945946</td></tr>\n",
       "\t<tr><td><span style=white-space:pre-wrap>&gt;3   </span></td><td> 6</td><td>0.08108108</td><td>3.00</td><td>0.24324324</td></tr>\n",
       "</tbody>\n",
       "</table>\n"
      ],
      "text/latex": [
       "A data.frame: 6 × 5\n",
       "\\begin{tabular}{lllll}\n",
       " Var1 & Freq & relFreq & groupMid & mult\\\\\n",
       " <fct> & <int> & <dbl> & <dbl> & <dbl>\\\\\n",
       "\\hline\n",
       "\t NA    &  0 & 0.00000000 & 0.00 & 0.00000000\\\\\n",
       "\t <0,5  &  3 & 0.04054054 & 0.25 & 0.01013514\\\\\n",
       "\t 0,5-1 & 19 & 0.25675676 & 0.75 & 0.19256757\\\\\n",
       "\t 1-2   & 25 & 0.33783784 & 1.50 & 0.50675676\\\\\n",
       "\t 2-3   & 21 & 0.28378378 & 2.50 & 0.70945946\\\\\n",
       "\t >3    &  6 & 0.08108108 & 3.00 & 0.24324324\\\\\n",
       "\\end{tabular}\n"
      ],
      "text/markdown": [
       "\n",
       "A data.frame: 6 × 5\n",
       "\n",
       "| Var1 &lt;fct&gt; | Freq &lt;int&gt; | relFreq &lt;dbl&gt; | groupMid &lt;dbl&gt; | mult &lt;dbl&gt; |\n",
       "|---|---|---|---|---|\n",
       "| NA    |  0 | 0.00000000 | 0.00 | 0.00000000 |\n",
       "| &lt;0,5  |  3 | 0.04054054 | 0.25 | 0.01013514 |\n",
       "| 0,5-1 | 19 | 0.25675676 | 0.75 | 0.19256757 |\n",
       "| 1-2   | 25 | 0.33783784 | 1.50 | 0.50675676 |\n",
       "| 2-3   | 21 | 0.28378378 | 2.50 | 0.70945946 |\n",
       "| &gt;3    |  6 | 0.08108108 | 3.00 | 0.24324324 |\n",
       "\n"
      ],
      "text/plain": [
       "  Var1  Freq relFreq    groupMid mult      \n",
       "1 NA     0   0.00000000 0.00     0.00000000\n",
       "2 <0,5   3   0.04054054 0.25     0.01013514\n",
       "3 0,5-1 19   0.25675676 0.75     0.19256757\n",
       "4 1-2   25   0.33783784 1.50     0.50675676\n",
       "5 2-3   21   0.28378378 2.50     0.70945946\n",
       "6 >3     6   0.08108108 3.00     0.24324324"
      ]
     },
     "metadata": {},
     "output_type": "display_data"
    },
    {
     "name": "stdout",
     "output_type": "stream",
     "text": [
      "[1] \"Erwarteter Aufschlag für Nachhaltigkeit (Arithmetisches Mittel bei gruppierten Daten):\"\n"
     ]
    },
    {
     "data": {
      "text/html": [
       "1.66"
      ],
      "text/latex": [
       "1.66"
      ],
      "text/markdown": [
       "1.66"
      ],
      "text/plain": [
       "[1] 1.66"
      ]
     },
     "metadata": {},
     "output_type": "display_data"
    },
    {
     "name": "stdout",
     "output_type": "stream",
     "text": [
      "[1] \"Erwarteter Aufschlag für Nachhaltigkeit (in %):\"\n"
     ]
    },
    {
     "data": {
      "text/html": [
       "24.38"
      ],
      "text/latex": [
       "24.38"
      ],
      "text/markdown": [
       "24.38"
      ],
      "text/plain": [
       "[1] 24.38"
      ]
     },
     "metadata": {},
     "output_type": "display_data"
    },
    {
     "data": {
      "image/png": "[encoded data removed]",
      "text/plain": [
       "plot without title"
      ]
     },
     "metadata": {
      "image/png": {
       "height": 420,
       "width": 420
      }
     },
     "output_type": "display_data"
    }
   ],
   "source": [
    "# Analyse von Aufschlag für Nachhaltigkeit (Menge)\n",
    "df$AufNachhaltigMenge <- as.factor(df$AufNachhaltigMenge)\n",
    "levels(df$AufNachhaltigMenge) <- c(\"NA\",\"<0,5\", \"0,5-1\", \"1-2\",\"2-3\",\">3\")\n",
    "t <- as.data.frame(table(subset(df, AufNachhaltigMenge!=\"NA\")$AufNachhaltigMenge))\n",
    "n <- sum(df$AufNachhaltigMenge != \"NA\")\n",
    "t$relFreq <- t$Freq/n\n",
    "t$groupMid <- c(0, 0.25, 0.75, 1.5, 2.5, 3)\n",
    "t$mult <- t$relFreq*t$groupMid\n",
    "t\n",
    "print(\"Erwarteter Aufschlag für Nachhaltigkeit (Arithmetisches Mittel bei gruppierten Daten):\")\n",
    "aufNach <- round(sum(t$mult), 2)\n",
    "aufNach\n",
    "print(\"Erwarteter Aufschlag für Nachhaltigkeit (in %):\")\n",
    "round(aufNach/(aufNach + mittelPreisBisher)*100, 2)\n",
    "\n",
    "\n",
    "ggplot(subset(df, AufNachhaltigMenge!=\"NA\"), aes(AufNachhaltigMenge)) + geom_bar()"
   ]
  },
  {
   "cell_type": "code",
   "execution_count": 13,
   "id": "8e629a79",
   "metadata": {},
   "outputs": [
    {
     "data": {
      "text/plain": [
       "\n",
       "  NA   Ja Nein \n",
       "  44   38   49 "
      ]
     },
     "metadata": {},
     "output_type": "display_data"
    },
    {
     "data": {
      "text/html": [
       "87"
      ],
      "text/latex": [
       "87"
      ],
      "text/markdown": [
       "87"
      ],
      "text/plain": [
       "[1] 87"
      ]
     },
     "metadata": {},
     "output_type": "display_data"
    },
    {
     "name": "stdout",
     "output_type": "stream",
     "text": [
      "[1] \"Würden mehr bezahlen (Anteil):\"\n"
     ]
    },
    {
     "data": {
      "text/html": [
       "0.44"
      ],
      "text/latex": [
       "0.44"
      ],
      "text/markdown": [
       "0.44"
      ],
      "text/plain": [
       "[1] 0.44"
      ]
     },
     "metadata": {},
     "output_type": "display_data"
    },
    {
     "name": "stdout",
     "output_type": "stream",
     "text": [
      "[1] \"Als Anzahl von Studierenden in Göttingen:\"\n"
     ]
    },
    {
     "data": {
      "text/html": [
       "13540"
      ],
      "text/latex": [
       "13540"
      ],
      "text/markdown": [
       "13540"
      ],
      "text/plain": [
       "[1] 13540"
      ]
     },
     "metadata": {},
     "output_type": "display_data"
    }
   ],
   "source": [
    "# Analyse von Aufschlag für Geschwindigkeit\n",
    "df$AufGeschw <- as.factor(df$AufGeschw)\n",
    "levels(df$AufGeschw) <- c(\"NA\", \"Ja\", \"Nein\")\n",
    "\n",
    "table(df$AufGeschw)\n",
    "n = sum(df$AufGeschw != \"NA\")\n",
    "n\n",
    "print(\"Würden mehr bezahlen (Anteil):\")\n",
    "jaAnteil = sum(df$AufGeschw == \"Ja\")/n\n",
    "round(jaAnteil, 2)\n",
    "\n",
    "zahlStudierende = 31000  # Quelle: https://www.uni-goettingen.de/de/zahlen+-+daten+-+fakten/626482.html (2019/2020)\n",
    "vltInteressiert = zahlStudierende*jaAnteil\n",
    "print(\"Als Anzahl von Studierenden in Göttingen:\")\n",
    "round(vltInteressiert)\n",
    "\n",
    "# ggplot(subset(df, AufGeschw!=\"NA\"), aes(AufGeschw)) + geom_bar()"
   ]
  },
  {
   "cell_type": "code",
   "execution_count": 14,
   "id": "0b6e9e7c",
   "metadata": {},
   "outputs": [
    {
     "data": {
      "text/html": [
       "<table class=\"dataframe\">\n",
       "<caption>A data.frame: 6 × 5</caption>\n",
       "<thead>\n",
       "\t<tr><th scope=col>Var1</th><th scope=col>Freq</th><th scope=col>relFreq</th><th scope=col>groupMid</th><th scope=col>mult</th></tr>\n",
       "\t<tr><th scope=col>&lt;fct&gt;</th><th scope=col>&lt;int&gt;</th><th scope=col>&lt;dbl&gt;</th><th scope=col>&lt;dbl&gt;</th><th scope=col>&lt;dbl&gt;</th></tr>\n",
       "</thead>\n",
       "<tbody>\n",
       "\t<tr><td>NA   </td><td> 0</td><td>0.00000000</td><td>0.00</td><td>0.000000000</td></tr>\n",
       "\t<tr><td>&lt;0,5 </td><td> 1</td><td>0.02631579</td><td>0.25</td><td>0.006578947</td></tr>\n",
       "\t<tr><td>0,5-1</td><td>10</td><td>0.26315789</td><td>0.75</td><td>0.197368421</td></tr>\n",
       "\t<tr><td>1-2  </td><td>12</td><td>0.31578947</td><td>1.50</td><td>0.473684211</td></tr>\n",
       "\t<tr><td>2-3  </td><td>11</td><td>0.28947368</td><td>2.50</td><td>0.723684211</td></tr>\n",
       "\t<tr><td><span style=white-space:pre-wrap>&gt;3   </span></td><td> 4</td><td>0.10526316</td><td>3.00</td><td>0.315789474</td></tr>\n",
       "</tbody>\n",
       "</table>\n"
      ],
      "text/latex": [
       "A data.frame: 6 × 5\n",
       "\\begin{tabular}{lllll}\n",
       " Var1 & Freq & relFreq & groupMid & mult\\\\\n",
       " <fct> & <int> & <dbl> & <dbl> & <dbl>\\\\\n",
       "\\hline\n",
       "\t NA    &  0 & 0.00000000 & 0.00 & 0.000000000\\\\\n",
       "\t <0,5  &  1 & 0.02631579 & 0.25 & 0.006578947\\\\\n",
       "\t 0,5-1 & 10 & 0.26315789 & 0.75 & 0.197368421\\\\\n",
       "\t 1-2   & 12 & 0.31578947 & 1.50 & 0.473684211\\\\\n",
       "\t 2-3   & 11 & 0.28947368 & 2.50 & 0.723684211\\\\\n",
       "\t >3    &  4 & 0.10526316 & 3.00 & 0.315789474\\\\\n",
       "\\end{tabular}\n"
      ],
      "text/markdown": [
       "\n",
       "A data.frame: 6 × 5\n",
       "\n",
       "| Var1 &lt;fct&gt; | Freq &lt;int&gt; | relFreq &lt;dbl&gt; | groupMid &lt;dbl&gt; | mult &lt;dbl&gt; |\n",
       "|---|---|---|---|---|\n",
       "| NA    |  0 | 0.00000000 | 0.00 | 0.000000000 |\n",
       "| &lt;0,5  |  1 | 0.02631579 | 0.25 | 0.006578947 |\n",
       "| 0,5-1 | 10 | 0.26315789 | 0.75 | 0.197368421 |\n",
       "| 1-2   | 12 | 0.31578947 | 1.50 | 0.473684211 |\n",
       "| 2-3   | 11 | 0.28947368 | 2.50 | 0.723684211 |\n",
       "| &gt;3    |  4 | 0.10526316 | 3.00 | 0.315789474 |\n",
       "\n"
      ],
      "text/plain": [
       "  Var1  Freq relFreq    groupMid mult       \n",
       "1 NA     0   0.00000000 0.00     0.000000000\n",
       "2 <0,5   1   0.02631579 0.25     0.006578947\n",
       "3 0,5-1 10   0.26315789 0.75     0.197368421\n",
       "4 1-2   12   0.31578947 1.50     0.473684211\n",
       "5 2-3   11   0.28947368 2.50     0.723684211\n",
       "6 >3     4   0.10526316 3.00     0.315789474"
      ]
     },
     "metadata": {},
     "output_type": "display_data"
    },
    {
     "name": "stdout",
     "output_type": "stream",
     "text": [
      "[1] \"Erwarteter Aufschlag für Geschwindigkeit (Arithmetisches Mittel bei gruppierten Daten):\"\n"
     ]
    },
    {
     "data": {
      "text/html": [
       "1.72"
      ],
      "text/latex": [
       "1.72"
      ],
      "text/markdown": [
       "1.72"
      ],
      "text/plain": [
       "[1] 1.72"
      ]
     },
     "metadata": {},
     "output_type": "display_data"
    },
    {
     "name": "stdout",
     "output_type": "stream",
     "text": [
      "[1] \"Erwarteter Aufschlag für Nachhaltigkeit (in %):\"\n"
     ]
    },
    {
     "data": {
      "text/html": [
       "33.4"
      ],
      "text/latex": [
       "33.4"
      ],
      "text/markdown": [
       "33.4"
      ],
      "text/plain": [
       "[1] 33.4"
      ]
     },
     "metadata": {},
     "output_type": "display_data"
    },
    {
     "data": {
      "image/png": "[encoded data removed]",
      "text/plain": [
       "plot without title"
      ]
     },
     "metadata": {
      "image/png": {
       "height": 420,
       "width": 420
      }
     },
     "output_type": "display_data"
    }
   ],
   "source": [
    "# Analyse von Aufschlag für Geschwindigkeit (Menge)\n",
    "df$AufGeschwMenge <- as.factor(df$AufGeschwMenge)\n",
    "levels(df$AufGeschwMenge) <- c(\"NA\",\"<0,5\", \"0,5-1\", \"1-2\",\"2-3\",\">3\")\n",
    "t <- as.data.frame(table(subset(df, AufGeschwMenge!=\"NA\")$AufGeschwMenge))\n",
    "n <- sum(df$AufGeschwMenge != \"NA\")\n",
    "t$relFreq <- t$Freq/n\n",
    "t$groupMid <- c(0, 0.25, 0.75, 1.5, 2.5, 3)\n",
    "t$mult <- t$relFreq*t$groupMid\n",
    "t\n",
    "print(\"Erwarteter Aufschlag für Geschwindigkeit (Arithmetisches Mittel bei gruppierten Daten):\")\n",
    "aufGes <- round(sum(t$mult), 2)\n",
    "aufGes\n",
    "print(\"Erwarteter Aufschlag für Nachhaltigkeit (in %):\")\n",
    "round(aufGes/mittelPreisBisher*100, 2)\n",
    "ggplot(subset(df, AufGeschwMenge!=\"NA\"), aes(AufGeschwMenge)) + geom_bar()"
   ]
  },
  {
   "cell_type": "code",
   "execution_count": 15,
   "id": "11054567",
   "metadata": {},
   "outputs": [
    {
     "data": {
      "text/plain": [
       "\n",
       "          NA        Sonst Sehr wichtig      wichtig    unwichtig \n",
       "          44            8           12           42           25 "
      ]
     },
     "metadata": {},
     "output_type": "display_data"
    },
    {
     "name": "stdout",
     "output_type": "stream",
     "text": [
      "[1] \"Versicherung scheint wichtig zu sein.\"\n"
     ]
    }
   ],
   "source": [
    "# Versicherung\n",
    "df$Versicherung <- as.factor(df$Versicherung)\n",
    "levels(df$Versicherung) <- c(\"NA\", \"Sonst\", \"Sehr wichtig\", \"wichtig\", \"unwichtig\")\n",
    "table(df$Versicherung)\n",
    "print(\"Versicherung scheint wichtig zu sein.\")"
   ]
  },
  {
   "cell_type": "code",
   "execution_count": 16,
   "id": "0aee3a9c",
   "metadata": {},
   "outputs": [
    {
     "data": {
      "text/plain": [
       "\n",
       "           NA  sehr wichtig etwas wichtig     unwichtig \n",
       "           44            33            36            18 "
      ]
     },
     "metadata": {},
     "output_type": "display_data"
    },
    {
     "name": "stdout",
     "output_type": "stream",
     "text": [
      "[1] \"Tracking scheint wichtig zu sein.\"\n"
     ]
    }
   ],
   "source": [
    "# Tracking\n",
    "df$Tracking <- as.factor(df$Tracking)\n",
    "levels(df$Tracking) <- c(\"NA\", \"sehr wichtig\", \"etwas wichtig\", \"unwichtig\")\n",
    "table(df$Tracking)\n",
    "print(\"Tracking scheint wichtig zu sein.\")"
   ]
  },
  {
   "cell_type": "code",
   "execution_count": 17,
   "id": "4bc9ecfe",
   "metadata": {},
   "outputs": [
    {
     "data": {
      "text/plain": [
       "\n",
       "  NA   Ja Nein \n",
       "  21   71   39 "
      ]
     },
     "metadata": {},
     "output_type": "display_data"
    },
    {
     "name": "stdout",
     "output_type": "stream",
     "text": [
      "[1] \"Anteil die Abholen würden:\"\n"
     ]
    },
    {
     "data": {
      "text/html": [
       "0.65"
      ],
      "text/latex": [
       "0.65"
      ],
      "text/markdown": [
       "0.65"
      ],
      "text/plain": [
       "[1] 0.65"
      ]
     },
     "metadata": {},
     "output_type": "display_data"
    }
   ],
   "source": [
    "# Abholen\n",
    "df$Abholen <- as.factor(df$Abholen)\n",
    "levels(df$Abholen) <- c(\"NA\", \"Ja\", \"Nein\")\n",
    "table(df$Abholen)\n",
    "print(\"Anteil die Abholen würden:\")\n",
    "round(sum(df$Abholen == \"Ja\")/sum(df$Abholen != \"NA\"), 2)"
   ]
  },
  {
   "cell_type": "code",
   "execution_count": 18,
   "id": "fa3a6d53",
   "metadata": {},
   "outputs": [
    {
     "data": {
      "text/plain": [
       "\n",
       "  NA   Ja Nein \n",
       "  25   79   27 "
      ]
     },
     "metadata": {},
     "output_type": "display_data"
    },
    {
     "name": "stdout",
     "output_type": "stream",
     "text": [
      "[1] \"Anteil die Transportieren würden (für Geld):\"\n"
     ]
    },
    {
     "data": {
      "text/html": [
       "0.75"
      ],
      "text/latex": [
       "0.75"
      ],
      "text/markdown": [
       "0.75"
      ],
      "text/plain": [
       "[1] 0.75"
      ]
     },
     "metadata": {},
     "output_type": "display_data"
    },
    {
     "name": "stderr",
     "output_type": "stream",
     "text": [
      "Warning message in chisq.test(xx, correct = correction):\n",
      "“Chi-squared approximation may be incorrect”\n",
      "Warning message in chisq.test(xx, correct = correction):\n",
      "“Chi-squared approximation may be incorrect”\n",
      "Warning message in chisq.test(xx, correct = correction):\n",
      "“Chi-squared approximation may be incorrect”\n",
      "Warning message in chisq.test(xx, correct = correction):\n",
      "“Chi-squared approximation may be incorrect”\n"
     ]
    },
    {
     "data": {
      "text/html": [
       "<dl>\n",
       "\t<dt>$data</dt>\n",
       "\t\t<dd><table class=\"dataframe\">\n",
       "<caption>A matrix: 6 × 3 of type int</caption>\n",
       "<thead>\n",
       "\t<tr><th></th><th scope=col>Ja</th><th scope=col>Nein</th><th scope=col>Total</th></tr>\n",
       "</thead>\n",
       "<tbody>\n",
       "\t<tr><th scope=row>&lt;500</th><td>15</td><td> 4</td><td> 19</td></tr>\n",
       "\t<tr><th scope=row>500-1000</th><td>28</td><td> 9</td><td> 37</td></tr>\n",
       "\t<tr><th scope=row>1000-1500</th><td> 9</td><td> 3</td><td> 12</td></tr>\n",
       "\t<tr><th scope=row>1500-2500</th><td>12</td><td> 4</td><td> 16</td></tr>\n",
       "\t<tr><th scope=row>&gt;2500</th><td>11</td><td> 6</td><td> 17</td></tr>\n",
       "\t<tr><th scope=row>Total</th><td>75</td><td>26</td><td>101</td></tr>\n",
       "</tbody>\n",
       "</table>\n",
       "</dd>\n",
       "\t<dt>$measure</dt>\n",
       "\t\t<dd><table class=\"dataframe\">\n",
       "<caption>A matrix: 5 × 3 of type dbl</caption>\n",
       "<thead>\n",
       "\t<tr><th></th><th scope=col>estimate</th><th scope=col>lower</th><th scope=col>upper</th></tr>\n",
       "</thead>\n",
       "<tbody>\n",
       "\t<tr><th scope=row>&lt;500</th><td>1.000000</td><td>       NA</td><td>      NA</td></tr>\n",
       "\t<tr><th scope=row>500-1000</th><td>1.183247</td><td>0.3168235</td><td>5.160037</td></tr>\n",
       "\t<tr><th scope=row>1000-1500</th><td>1.250428</td><td>0.1918130</td><td>7.404010</td></tr>\n",
       "\t<tr><th scope=row>1500-2500</th><td>1.241435</td><td>0.2338678</td><td>6.614484</td></tr>\n",
       "\t<tr><th scope=row>&gt;2500</th><td>1.985369</td><td>0.4414948</td><td>9.880668</td></tr>\n",
       "</tbody>\n",
       "</table>\n",
       "</dd>\n",
       "\t<dt>$p.value</dt>\n",
       "\t\t<dd><table class=\"dataframe\">\n",
       "<caption>A matrix: 5 × 3 of type dbl</caption>\n",
       "<thead>\n",
       "\t<tr><th></th><th scope=col>midp.exact</th><th scope=col>fisher.exact</th><th scope=col>chi.square</th></tr>\n",
       "</thead>\n",
       "<tbody>\n",
       "\t<tr><th scope=row>&lt;500</th><td>       NA</td><td>       NA</td><td>       NA</td></tr>\n",
       "\t<tr><th scope=row>500-1000</th><td>0.8080684</td><td>1.0000000</td><td>0.7836538</td></tr>\n",
       "\t<tr><th scope=row>1000-1500</th><td>0.8060580</td><td>1.0000000</td><td>0.7979229</td></tr>\n",
       "\t<tr><th scope=row>1500-2500</th><td>0.7953281</td><td>1.0000000</td><td>0.7817449</td></tr>\n",
       "\t<tr><th scope=row>&gt;2500</th><td>0.3734902</td><td>0.4628824</td><td>0.3408922</td></tr>\n",
       "</tbody>\n",
       "</table>\n",
       "</dd>\n",
       "\t<dt>$correction</dt>\n",
       "\t\t<dd>FALSE</dd>\n",
       "</dl>\n"
      ],
      "text/latex": [
       "\\begin{description}\n",
       "\\item[\\$data] A matrix: 6 × 3 of type int\n",
       "\\begin{tabular}{r|lll}\n",
       "  & Ja & Nein & Total\\\\\n",
       "\\hline\n",
       "\t<500 & 15 &  4 &  19\\\\\n",
       "\t500-1000 & 28 &  9 &  37\\\\\n",
       "\t1000-1500 &  9 &  3 &  12\\\\\n",
       "\t1500-2500 & 12 &  4 &  16\\\\\n",
       "\t>2500 & 11 &  6 &  17\\\\\n",
       "\tTotal & 75 & 26 & 101\\\\\n",
       "\\end{tabular}\n",
       "\n",
       "\\item[\\$measure] A matrix: 5 × 3 of type dbl\n",
       "\\begin{tabular}{r|lll}\n",
       "  & estimate & lower & upper\\\\\n",
       "\\hline\n",
       "\t<500 & 1.000000 &        NA &       NA\\\\\n",
       "\t500-1000 & 1.183247 & 0.3168235 & 5.160037\\\\\n",
       "\t1000-1500 & 1.250428 & 0.1918130 & 7.404010\\\\\n",
       "\t1500-2500 & 1.241435 & 0.2338678 & 6.614484\\\\\n",
       "\t>2500 & 1.985369 & 0.4414948 & 9.880668\\\\\n",
       "\\end{tabular}\n",
       "\n",
       "\\item[\\$p.value] A matrix: 5 × 3 of type dbl\n",
       "\\begin{tabular}{r|lll}\n",
       "  & midp.exact & fisher.exact & chi.square\\\\\n",
       "\\hline\n",
       "\t<500 &        NA &        NA &        NA\\\\\n",
       "\t500-1000 & 0.8080684 & 1.0000000 & 0.7836538\\\\\n",
       "\t1000-1500 & 0.8060580 & 1.0000000 & 0.7979229\\\\\n",
       "\t1500-2500 & 0.7953281 & 1.0000000 & 0.7817449\\\\\n",
       "\t>2500 & 0.3734902 & 0.4628824 & 0.3408922\\\\\n",
       "\\end{tabular}\n",
       "\n",
       "\\item[\\$correction] FALSE\n",
       "\\end{description}\n"
      ],
      "text/markdown": [
       "$data\n",
       ":   \n",
       "A matrix: 6 × 3 of type int\n",
       "\n",
       "| <!--/--> | Ja | Nein | Total |\n",
       "|---|---|---|---|\n",
       "| &lt;500 | 15 |  4 |  19 |\n",
       "| 500-1000 | 28 |  9 |  37 |\n",
       "| 1000-1500 |  9 |  3 |  12 |\n",
       "| 1500-2500 | 12 |  4 |  16 |\n",
       "| &gt;2500 | 11 |  6 |  17 |\n",
       "| Total | 75 | 26 | 101 |\n",
       "\n",
       "\n",
       "$measure\n",
       ":   \n",
       "A matrix: 5 × 3 of type dbl\n",
       "\n",
       "| <!--/--> | estimate | lower | upper |\n",
       "|---|---|---|---|\n",
       "| &lt;500 | 1.000000 |        NA |       NA |\n",
       "| 500-1000 | 1.183247 | 0.3168235 | 5.160037 |\n",
       "| 1000-1500 | 1.250428 | 0.1918130 | 7.404010 |\n",
       "| 1500-2500 | 1.241435 | 0.2338678 | 6.614484 |\n",
       "| &gt;2500 | 1.985369 | 0.4414948 | 9.880668 |\n",
       "\n",
       "\n",
       "$p.value\n",
       ":   \n",
       "A matrix: 5 × 3 of type dbl\n",
       "\n",
       "| <!--/--> | midp.exact | fisher.exact | chi.square |\n",
       "|---|---|---|---|\n",
       "| &lt;500 |        NA |        NA |        NA |\n",
       "| 500-1000 | 0.8080684 | 1.0000000 | 0.7836538 |\n",
       "| 1000-1500 | 0.8060580 | 1.0000000 | 0.7979229 |\n",
       "| 1500-2500 | 0.7953281 | 1.0000000 | 0.7817449 |\n",
       "| &gt;2500 | 0.3734902 | 0.4628824 | 0.3408922 |\n",
       "\n",
       "\n",
       "$correction\n",
       ":   FALSE\n",
       "\n",
       "\n"
      ],
      "text/plain": [
       "$data\n",
       "           \n",
       "            Ja Nein Total\n",
       "  <500      15    4    19\n",
       "  500-1000  28    9    37\n",
       "  1000-1500  9    3    12\n",
       "  1500-2500 12    4    16\n",
       "  >2500     11    6    17\n",
       "  Total     75   26   101\n",
       "\n",
       "$measure\n",
       "           odds ratio with 95% C.I.\n",
       "            estimate     lower    upper\n",
       "  <500      1.000000        NA       NA\n",
       "  500-1000  1.183247 0.3168235 5.160037\n",
       "  1000-1500 1.250428 0.1918130 7.404010\n",
       "  1500-2500 1.241435 0.2338678 6.614484\n",
       "  >2500     1.985369 0.4414948 9.880668\n",
       "\n",
       "$p.value\n",
       "           two-sided\n",
       "            midp.exact fisher.exact chi.square\n",
       "  <500              NA           NA         NA\n",
       "  500-1000   0.8080684    1.0000000  0.7836538\n",
       "  1000-1500  0.8060580    1.0000000  0.7979229\n",
       "  1500-2500  0.7953281    1.0000000  0.7817449\n",
       "  >2500      0.3734902    0.4628824  0.3408922\n",
       "\n",
       "$correction\n",
       "[1] FALSE\n",
       "\n",
       "attr(,\"method\")\n",
       "[1] \"median-unbiased estimate & mid-p exact CI\""
      ]
     },
     "metadata": {},
     "output_type": "display_data"
    },
    {
     "data": {
      "image/png": "[encoded data removed]",
      "text/plain": [
       "plot without title"
      ]
     },
     "metadata": {
      "image/png": {
       "height": 420,
       "width": 420
      }
     },
     "output_type": "display_data"
    }
   ],
   "source": [
    "# Transportieren\n",
    "df$Transport <- as.factor(df$Transport)\n",
    "levels(df$Transport) <- c(\"NA\", \"Ja\", \"Nein\")\n",
    "table(df$Transport)\n",
    "print(\"Anteil die Transportieren würden (für Geld):\")\n",
    "round(sum(df$Transport == \"Ja\")/sum(df$Transport != \"NA\"), 2)\n",
    "\n",
    "ggplot(subset(df, Transport!=\"NA\" & Einkommen!=\"NA\"), aes(Einkommen, Transport)) + geom_bin2d()\n",
    "\n",
    "data <- subset(df, Transport!=\"NA\" & Einkommen!=\"NA\")\n",
    "mat <- table(data$Einkommen, data$Transport)[2:6,2:3]\n",
    "or_fit <- oddsratio(mat)\n",
    "or_fit\n",
    "\n"
   ]
  },
  {
   "cell_type": "code",
   "execution_count": 19,
   "id": "32cb41e3",
   "metadata": {},
   "outputs": [
    {
     "data": {
      "text/plain": [
       "\n",
       "       NA        Ja   Eher ja Eher nein      Nein \n",
       "       52        25         6        27        21 "
      ]
     },
     "metadata": {},
     "output_type": "display_data"
    },
    {
     "name": "stdout",
     "output_type": "stream",
     "text": [
      "[1] \"Anteil die Transportieren würden (bei Spenden):\"\n"
     ]
    },
    {
     "data": {
      "text/html": [
       "0.39"
      ],
      "text/latex": [
       "0.39"
      ],
      "text/markdown": [
       "0.39"
      ],
      "text/plain": [
       "[1] 0.39"
      ]
     },
     "metadata": {},
     "output_type": "display_data"
    },
    {
     "data": {
      "text/plain": [
       "\n",
       "       NA        Ja   Eher ja Eher nein      Nein \n",
       "       52        64        15         0         0 "
      ]
     },
     "metadata": {},
     "output_type": "display_data"
    },
    {
     "name": "stdout",
     "output_type": "stream",
     "text": [
      "[1] \"Anteil die Transportieren würden (bei Boni):\"\n"
     ]
    },
    {
     "data": {
      "text/html": [
       "1"
      ],
      "text/latex": [
       "1"
      ],
      "text/markdown": [
       "1"
      ],
      "text/plain": [
       "[1] 1"
      ]
     },
     "metadata": {},
     "output_type": "display_data"
    }
   ],
   "source": [
    "df$TransportSpende <- as.factor(df$TransportSpende)\n",
    "levels(df$TransportSpende) <- c(\"NA\", \"Ja\", \"Eher ja\", \"Eher nein\", \"Nein\")\n",
    "table(df$TransportSpende)\n",
    "print(\"Anteil die Transportieren würden (bei Spenden):\")\n",
    "round((sum(df$TransportSpende == \"Ja\")+sum(df$TransportSpende == \"Eher ja\"))/sum(df$TransportSpende != \"NA\"), 2)\n",
    "\n",
    "df$TransportBoni <- as.factor(df$TransportBoni)\n",
    "levels(df$TransportBoni) <- c(\"NA\", \"Ja\", \"Eher ja\", \"Eher nein\", \"Nein\")\n",
    "table(df$TransportBoni)\n",
    "print(\"Anteil die Transportieren würden (bei Boni):\")\n",
    "round((sum(df$TransportBoni == \"Ja\")+sum(df$TransportBoni == \"Eher ja\"))/sum(df$TransportBoni != \"NA\"), 2)"
   ]
  },
  {
   "cell_type": "code",
   "execution_count": 37,
   "id": "f320a4b6",
   "metadata": {
    "scrolled": true,
    "tags": []
   },
   "outputs": [
    {
     "data": {
      "text/html": [
       "<style>\n",
       ".list-inline {list-style: none; margin:0; padding: 0}\n",
       ".list-inline>li {display: inline-block}\n",
       ".list-inline>li:not(:last-child)::after {content: \"\\00b7\"; padding: 0 .5ex}\n",
       "</style>\n",
       "<ol class=list-inline><li>1</li><li>1</li><li>2</li><li>2</li><li>2</li><li>2</li><li>2</li><li>2</li><li>2</li><li>2</li><li>2</li><li>2.5</li><li>2.5</li><li>3</li><li>3</li><li>3</li><li>3</li><li>3</li><li>3</li><li>3</li><li>3</li><li>3</li><li>3</li><li>4</li><li>4</li><li>4</li><li>4</li><li>4</li><li>5</li><li>5</li><li>5</li><li>5</li><li>5</li><li>5</li><li>5</li><li>5</li><li>5</li><li>5</li><li>5</li><li>5</li><li>5</li><li>5</li><li>5</li><li>5</li><li>5</li><li>5</li><li>5</li><li>5</li><li>5</li><li>5</li><li>5</li><li>5</li><li>5</li><li>5</li><li>6</li><li>7</li><li>10</li><li>10</li><li>10</li><li>10</li><li>10</li><li>10</li><li>10</li><li>10</li><li>10</li><li>10</li><li>10</li><li>10</li><li>10</li><li>10</li><li>10</li><li>10</li><li>10</li><li>12</li><li>12</li><li>15</li><li>15</li><li>20</li><li>25</li></ol>\n"
      ],
      "text/latex": [
       "\\begin{enumerate*}\n",
       "\\item 1\n",
       "\\item 1\n",
       "\\item 2\n",
       "\\item 2\n",
       "\\item 2\n",
       "\\item 2\n",
       "\\item 2\n",
       "\\item 2\n",
       "\\item 2\n",
       "\\item 2\n",
       "\\item 2\n",
       "\\item 2.5\n",
       "\\item 2.5\n",
       "\\item 3\n",
       "\\item 3\n",
       "\\item 3\n",
       "\\item 3\n",
       "\\item 3\n",
       "\\item 3\n",
       "\\item 3\n",
       "\\item 3\n",
       "\\item 3\n",
       "\\item 3\n",
       "\\item 4\n",
       "\\item 4\n",
       "\\item 4\n",
       "\\item 4\n",
       "\\item 4\n",
       "\\item 5\n",
       "\\item 5\n",
       "\\item 5\n",
       "\\item 5\n",
       "\\item 5\n",
       "\\item 5\n",
       "\\item 5\n",
       "\\item 5\n",
       "\\item 5\n",
       "\\item 5\n",
       "\\item 5\n",
       "\\item 5\n",
       "\\item 5\n",
       "\\item 5\n",
       "\\item 5\n",
       "\\item 5\n",
       "\\item 5\n",
       "\\item 5\n",
       "\\item 5\n",
       "\\item 5\n",
       "\\item 5\n",
       "\\item 5\n",
       "\\item 5\n",
       "\\item 5\n",
       "\\item 5\n",
       "\\item 5\n",
       "\\item 6\n",
       "\\item 7\n",
       "\\item 10\n",
       "\\item 10\n",
       "\\item 10\n",
       "\\item 10\n",
       "\\item 10\n",
       "\\item 10\n",
       "\\item 10\n",
       "\\item 10\n",
       "\\item 10\n",
       "\\item 10\n",
       "\\item 10\n",
       "\\item 10\n",
       "\\item 10\n",
       "\\item 10\n",
       "\\item 10\n",
       "\\item 10\n",
       "\\item 10\n",
       "\\item 12\n",
       "\\item 12\n",
       "\\item 15\n",
       "\\item 15\n",
       "\\item 20\n",
       "\\item 25\n",
       "\\end{enumerate*}\n"
      ],
      "text/markdown": [
       "1. 1\n",
       "2. 1\n",
       "3. 2\n",
       "4. 2\n",
       "5. 2\n",
       "6. 2\n",
       "7. 2\n",
       "8. 2\n",
       "9. 2\n",
       "10. 2\n",
       "11. 2\n",
       "12. 2.5\n",
       "13. 2.5\n",
       "14. 3\n",
       "15. 3\n",
       "16. 3\n",
       "17. 3\n",
       "18. 3\n",
       "19. 3\n",
       "20. 3\n",
       "21. 3\n",
       "22. 3\n",
       "23. 3\n",
       "24. 4\n",
       "25. 4\n",
       "26. 4\n",
       "27. 4\n",
       "28. 4\n",
       "29. 5\n",
       "30. 5\n",
       "31. 5\n",
       "32. 5\n",
       "33. 5\n",
       "34. 5\n",
       "35. 5\n",
       "36. 5\n",
       "37. 5\n",
       "38. 5\n",
       "39. 5\n",
       "40. 5\n",
       "41. 5\n",
       "42. 5\n",
       "43. 5\n",
       "44. 5\n",
       "45. 5\n",
       "46. 5\n",
       "47. 5\n",
       "48. 5\n",
       "49. 5\n",
       "50. 5\n",
       "51. 5\n",
       "52. 5\n",
       "53. 5\n",
       "54. 5\n",
       "55. 6\n",
       "56. 7\n",
       "57. 10\n",
       "58. 10\n",
       "59. 10\n",
       "60. 10\n",
       "61. 10\n",
       "62. 10\n",
       "63. 10\n",
       "64. 10\n",
       "65. 10\n",
       "66. 10\n",
       "67. 10\n",
       "68. 10\n",
       "69. 10\n",
       "70. 10\n",
       "71. 10\n",
       "72. 10\n",
       "73. 10\n",
       "74. 12\n",
       "75. 12\n",
       "76. 15\n",
       "77. 15\n",
       "78. 20\n",
       "79. 25\n",
       "\n",
       "\n"
      ],
      "text/plain": [
       " [1]  1.0  1.0  2.0  2.0  2.0  2.0  2.0  2.0  2.0  2.0  2.0  2.5  2.5  3.0  3.0\n",
       "[16]  3.0  3.0  3.0  3.0  3.0  3.0  3.0  3.0  4.0  4.0  4.0  4.0  4.0  5.0  5.0\n",
       "[31]  5.0  5.0  5.0  5.0  5.0  5.0  5.0  5.0  5.0  5.0  5.0  5.0  5.0  5.0  5.0\n",
       "[46]  5.0  5.0  5.0  5.0  5.0  5.0  5.0  5.0  5.0  6.0  7.0 10.0 10.0 10.0 10.0\n",
       "[61] 10.0 10.0 10.0 10.0 10.0 10.0 10.0 10.0 10.0 10.0 10.0 10.0 10.0 12.0 12.0\n",
       "[76] 15.0 15.0 20.0 25.0"
      ]
     },
     "metadata": {},
     "output_type": "display_data"
    },
    {
     "name": "stdout",
     "output_type": "stream",
     "text": [
      "[1] \"Mittlere erwartete Bezahlung in Euro:\"\n"
     ]
    },
    {
     "data": {
      "text/html": [
       "5"
      ],
      "text/latex": [
       "5"
      ],
      "text/markdown": [
       "5"
      ],
      "text/plain": [
       "[1] 5"
      ]
     },
     "metadata": {},
     "output_type": "display_data"
    },
    {
     "data": {
      "text/html": [
       "0.683544303797468"
      ],
      "text/latex": [
       "0.683544303797468"
      ],
      "text/markdown": [
       "0.683544303797468"
      ],
      "text/plain": [
       "[1] 0.6835443"
      ]
     },
     "metadata": {},
     "output_type": "display_data"
    },
    {
     "name": "stdout",
     "output_type": "stream",
     "text": [
      "[1] \"Differenz zwischen erwarteter bezahlung und mittlere Kosten + Aufschlag (Nachhaltigkeit) in Euro:\"\n"
     ]
    },
    {
     "data": {
      "text/html": [
       "1.81"
      ],
      "text/latex": [
       "1.81"
      ],
      "text/markdown": [
       "1.81"
      ],
      "text/plain": [
       "[1] 1.81"
      ]
     },
     "metadata": {},
     "output_type": "display_data"
    },
    {
     "name": "stdout",
     "output_type": "stream",
     "text": [
      "[1] \"In Prozent:\"\n"
     ]
    },
    {
     "data": {
      "text/html": [
       "36.2"
      ],
      "text/latex": [
       "36.2"
      ],
      "text/markdown": [
       "36.2"
      ],
      "text/plain": [
       "[1] 36.2"
      ]
     },
     "metadata": {},
     "output_type": "display_data"
    },
    {
     "name": "stdout",
     "output_type": "stream",
     "text": [
      "[1] \"Differenz zwischen erwarteter bezahlung und mittlere Kosten + Aufschlag (Geschwindigkeit) in Euro:\"\n"
     ]
    },
    {
     "data": {
      "text/html": [
       "1.87"
      ],
      "text/latex": [
       "1.87"
      ],
      "text/markdown": [
       "1.87"
      ],
      "text/plain": [
       "[1] 1.87"
      ]
     },
     "metadata": {},
     "output_type": "display_data"
    },
    {
     "name": "stdout",
     "output_type": "stream",
     "text": [
      "[1] \"In Prozent:\"\n"
     ]
    },
    {
     "data": {
      "text/html": [
       "37.4"
      ],
      "text/latex": [
       "37.4"
      ],
      "text/markdown": [
       "37.4"
      ],
      "text/plain": [
       "[1] 37.4"
      ]
     },
     "metadata": {},
     "output_type": "display_data"
    },
    {
     "name": "stdout",
     "output_type": "stream",
     "text": [
      "[1] \"Differenz zwischen erwarteter bezahlung und mittlere Kosten + Aufschlag (Nachhaltigkeit + Geschwindigkeit) in Euro:\"\n"
     ]
    },
    {
     "data": {
      "text/html": [
       "3.53"
      ],
      "text/latex": [
       "3.53"
      ],
      "text/markdown": [
       "3.53"
      ],
      "text/plain": [
       "[1] 3.53"
      ]
     },
     "metadata": {},
     "output_type": "display_data"
    },
    {
     "name": "stdout",
     "output_type": "stream",
     "text": [
      "[1] \"In Prozent:\"\n"
     ]
    },
    {
     "data": {
      "text/html": [
       "70.6"
      ],
      "text/latex": [
       "70.6"
      ],
      "text/markdown": [
       "70.6"
      ],
      "text/plain": [
       "[1] 70.6"
      ]
     },
     "metadata": {},
     "output_type": "display_data"
    },
    {
     "data": {
      "image/png": "[encoded data removed]",
      "text/plain": [
       "plot without title"
      ]
     },
     "metadata": {
      "image/png": {
       "height": 420,
       "width": 420
      }
     },
     "output_type": "display_data"
    }
   ],
   "source": [
    "# Transportieren gegen wie viel Geld? \n",
    "\n",
    "transportBezahlung <- na.omit(df$TransportGeld)\n",
    "sort(transportBezahlung)\n",
    "print(\"Mittlere erwartete Bezahlung in Euro:\") # nicht durchschnitt weil nicht so viele \"carrier\" nötig\n",
    "bezErwartet <- round(median(transportBezahlung), 2) \n",
    "bezErwartet\n",
    "\n",
    "relevant <- subset(df, TransportGeld<=5)\n",
    "relBezahlung <- na.omit(relevant$TransportGeld)\n",
    "length(relBezahlung)/length(transportBezahlung)\n",
    "\n",
    "print(\"Differenz zwischen erwarteter bezahlung und mittlere Kosten + Aufschlag (Nachhaltigkeit) in Euro:\")\n",
    "mittelPreisBisher - bezErwartet + aufNach\n",
    "print(\"In Prozent:\")\n",
    "round((mittelPreisBisher - bezErwartet + aufNach)/bezErwartet*100, 2)\n",
    "\n",
    "print(\"Differenz zwischen erwarteter bezahlung und mittlere Kosten + Aufschlag (Geschwindigkeit) in Euro:\")\n",
    "mittelPreisBisher - bezErwartet + aufGes\n",
    "print(\"In Prozent:\")\n",
    "round((mittelPreisBisher - bezErwartet + aufGes)/bezErwartet*100, 2)\n",
    "\n",
    "print(\"Differenz zwischen erwarteter bezahlung und mittlere Kosten + Aufschlag (Nachhaltigkeit + Geschwindigkeit) in Euro:\")\n",
    "mittelPreisBisher - bezErwartet + aufNach + aufGes\n",
    "print(\"In Prozent:\")\n",
    "round((mittelPreisBisher - bezErwartet + aufNach + aufGes)/bezErwartet*100, 2)\n",
    "\n",
    "ggplot(as.data.frame(transportBezahlung), aes(transportBezahlung)) + geom_histogram(bins = 15)"
   ]
  },
  {
   "cell_type": "code",
   "execution_count": 21,
   "id": "640fa217",
   "metadata": {},
   "outputs": [
    {
     "name": "stdout",
     "output_type": "stream",
     "text": [
      "[1] \"Ersparnis für 'carrier' bei Niedesachen Ticket (eine Fahrt) in Prozent:\"\n"
     ]
    },
    {
     "data": {
      "text/html": [
       "21.74"
      ],
      "text/latex": [
       "21.74"
      ],
      "text/markdown": [
       "21.74"
      ],
      "text/plain": [
       "[1] 21.74"
      ]
     },
     "metadata": {},
     "output_type": "display_data"
    },
    {
     "name": "stdout",
     "output_type": "stream",
     "text": [
      "[1] \"Ersparnis für 'carrier' bei Bahncard 50 (eine Fahrt pro Monat) in Prozent:\"\n"
     ]
    },
    {
     "data": {
      "text/html": [
       "26.2"
      ],
      "text/latex": [
       "26.2"
      ],
      "text/markdown": [
       "26.2"
      ],
      "text/plain": [
       "[1] 26.2"
      ]
     },
     "metadata": {},
     "output_type": "display_data"
    },
    {
     "name": "stdout",
     "output_type": "stream",
     "text": [
      "[1] \"Ersparnis für 'carrier' bei Bahncard 50 (eine Fahrt pro Woche) in Prozent:\"\n"
     ]
    },
    {
     "data": {
      "text/html": [
       "113.54"
      ],
      "text/latex": [
       "113.54"
      ],
      "text/markdown": [
       "113.54"
      ],
      "text/plain": [
       "[1] 113.54"
      ]
     },
     "metadata": {},
     "output_type": "display_data"
    },
    {
     "name": "stdout",
     "output_type": "stream",
     "text": [
      "[1] \"Ersparnis für 'carrier' bei Bahncard 50 (Zwei Fahrten pro Werktag) in Prozent:\"\n"
     ]
    },
    {
     "data": {
      "text/html": [
       "1117.9"
      ],
      "text/latex": [
       "1117.9"
      ],
      "text/markdown": [
       "1117.9"
      ],
      "text/plain": [
       "[1] 1117.9"
      ]
     },
     "metadata": {},
     "output_type": "display_data"
    }
   ],
   "source": [
    "# Niedersachen-Ticket Preise: 23€ + 5€ Pro person\n",
    "# Bahncard 50 (für 1 Jahr): 229€ -> https://www.bahn.de/p/view/bahncard/ueberblick/bahncard50.shtml?dbkanal_007=teaserBlock_3-2_link_BahnCard50\n",
    "mglEntlohnung = bezErwartet\n",
    "niederTicket = 23\n",
    "Bahncard50 = 229\n",
    "\n",
    "print(\"Ersparnis für 'carrier' bei Niedesachen Ticket (eine Fahrt) in Prozent:\")\n",
    "round(mglEntlohnung/niederTicket*100, 2)\n",
    "\n",
    "print(\"Ersparnis für 'carrier' bei Bahncard 50 (eine Fahrt pro Monat) in Prozent:\")\n",
    "round((mglEntlohnung * 12)/Bahncard50*100, 2)\n",
    "\n",
    "print(\"Ersparnis für 'carrier' bei Bahncard 50 (eine Fahrt pro Woche) in Prozent:\")\n",
    "round((mglEntlohnung * 52)/Bahncard50*100, 2)\n",
    "\n",
    "print(\"Ersparnis für 'carrier' bei Bahncard 50 (Zwei Fahrten pro Werktag) in Prozent:\")  # 256 = 365 - 52 Samstag - 52 Sonntage - 5 Feiertag in Niedersachen\n",
    "round((mglEntlohnung * 256*2)/Bahncard50*100, 2)  # ~ 3153.92€"
   ]
  },
  {
   "cell_type": "code",
   "execution_count": 22,
   "id": "a0dea600",
   "metadata": {},
   "outputs": [
    {
     "name": "stdout",
     "output_type": "stream",
     "text": [
      "[1] \"Anteil Email Adressen:\"\n"
     ]
    },
    {
     "data": {
      "text/html": [
       "0.08"
      ],
      "text/latex": [
       "0.08"
      ],
      "text/markdown": [
       "0.08"
      ],
      "text/plain": [
       "[1] 0.08"
      ]
     },
     "metadata": {},
     "output_type": "display_data"
    },
    {
     "name": "stdout",
     "output_type": "stream",
     "text": [
      "[1] \"Nur wenige Email Adressen erhalten.\"\n"
     ]
    }
   ],
   "source": [
    "# Emails\n",
    "\n",
    "print(\"Anteil Email Adressen:\")\n",
    "round(sum(df$Email != \"\")/length(df$Email), 2)\n",
    "print(\"Nur wenige Email Adressen erhalten.\")"
   ]
  },
  {
   "cell_type": "code",
   "execution_count": null,
   "id": "9bce3598-8da5-4cb3-90da-070efa2b044d",
   "metadata": {},
   "outputs": [],
   "source": []
  },
  {
   "cell_type": "code",
   "execution_count": null,
   "id": "a257ee51-188f-4bcd-8477-348312d16ac9",
   "metadata": {},
   "outputs": [],
   "source": []
  }
 ],
 "metadata": {
  "kernelspec": {
   "display_name": "R",
   "language": "R",
   "name": "ir"
  },
  "language_info": {
   "codemirror_mode": "r",
   "file_extension": ".r",
   "mimetype": "text/x-r-source",
   "name": "R",
   "pygments_lexer": "r",
   "version": "4.0.3"
  }
 },
 "nbformat": 4,
 "nbformat_minor": 5
}
