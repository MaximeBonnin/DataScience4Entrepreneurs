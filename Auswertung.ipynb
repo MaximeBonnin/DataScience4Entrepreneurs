{
 "cells": [
  {
   "cell_type": "code",
   "execution_count": 1,
   "id": "04036862-22d6-49a4-9010-2beaea983eb5",
   "metadata": {},
   "outputs": [
    {
     "name": "stderr",
     "output_type": "stream",
     "text": [
      "Installing package into ‘/srv/rlibs’\n",
      "(as ‘lib’ is unspecified)\n",
      "\n",
      "also installing the dependencies ‘zip’, ‘SparseM’, ‘MatrixModels’, ‘data.table’, ‘openxlsx’, ‘minqa’, ‘nloptr’, ‘RcppEigen’, ‘carData’, ‘abind’, ‘pbkrtest’, ‘quantreg’, ‘maptools’, ‘rio’, ‘lme4’\n",
      "\n",
      "\n"
     ]
    }
   ],
   "source": [
    "install.packages(\"car\")"
   ]
  },
  {
   "cell_type": "code",
   "execution_count": 2,
   "id": "5b5d9932",
   "metadata": {},
   "outputs": [
    {
     "name": "stderr",
     "output_type": "stream",
     "text": [
      "Registered S3 methods overwritten by 'tibble':\n",
      "  method     from  \n",
      "  format.tbl pillar\n",
      "  print.tbl  pillar\n",
      "\n",
      "\n",
      "Attaching package: ‘dplyr’\n",
      "\n",
      "\n",
      "The following objects are masked from ‘package:stats’:\n",
      "\n",
      "    filter, lag\n",
      "\n",
      "\n",
      "The following objects are masked from ‘package:base’:\n",
      "\n",
      "    intersect, setdiff, setequal, union\n",
      "\n",
      "\n",
      "Loading required package: carData\n",
      "\n",
      "\n",
      "Attaching package: ‘car’\n",
      "\n",
      "\n",
      "The following object is masked from ‘package:dplyr’:\n",
      "\n",
      "    recode\n",
      "\n",
      "\n",
      "Registered S3 methods overwritten by 'ggplot2':\n",
      "  method         from \n",
      "  [.quosures     rlang\n",
      "  c.quosures     rlang\n",
      "  print.quosures rlang\n",
      "\n"
     ]
    }
   ],
   "source": [
    "library(dplyr)\n",
    "library(car)\n",
    "library(stringr)\n",
    "library(ggplot2)"
   ]
  },
  {
   "cell_type": "code",
   "execution_count": 3,
   "id": "26ef5722",
   "metadata": {},
   "outputs": [
    {
     "ename": "ERROR",
     "evalue": "Error in df == \"\": comparison (1) is possible only for atomic and list types\n",
     "output_type": "error",
     "traceback": [
      "Error in df == \"\": comparison (1) is possible only for atomic and list types\nTraceback:\n"
     ]
    }
   ],
   "source": [
    "survey_results <- read.csv(\"results_last.csv\")\n",
    "df[df==\"\"] <- NA\n",
    "df[df==\"NA\"] <- NA"
   ]
  },
  {
   "cell_type": "code",
   "execution_count": 4,
   "id": "302b45e7",
   "metadata": {},
   "outputs": [
    {
     "name": "stdout",
     "output_type": "stream",
     "text": [
      "Observations: 131\n",
      "Variables: 34\n",
      "$ Alter              \u001b[3m\u001b[90m<int>\u001b[39m\u001b[23m 20, 58, 26, 21, 23, 24, 21, 30, 72, 43, 44, NA, 23…\n",
      "$ Gender             \u001b[3m\u001b[90m<fct>\u001b[39m\u001b[23m A1, A2, A2, A1, A2, A1, A1, A1, A1, A2, A2, , A1, …\n",
      "$ Job                \u001b[3m\u001b[90m<fct>\u001b[39m\u001b[23m A2, A3, A2, A2, A2, A3, A2, A2, A3, A3, A3, , A2, …\n",
      "$ Einkommen          \u001b[3m\u001b[90m<fct>\u001b[39m\u001b[23m A2, A4, A3, A2, , A3, A2, A4, A3, A4, A3, , A5, A2…\n",
      "$ Bildung            \u001b[3m\u001b[90m<fct>\u001b[39m\u001b[23m A5, A6, A5, A5, A5, A6, A5, A6, A4, A6, A5, , A4, …\n",
      "$ Pendel             \u001b[3m\u001b[90m<fct>\u001b[39m\u001b[23m A3, A3, A1, A3, A3, A1, A3, A3, A3, A3, A3, , A3, …\n",
      "$ Pendel2            \u001b[3m\u001b[90m<fct>\u001b[39m\u001b[23m , , A4, , , A1, , , , , , , , , , -oth-, , , , , ,…\n",
      "$ Pendel2Sonst       \u001b[3m\u001b[90m<fct>\u001b[39m\u001b[23m , , , , , , , , , , , , , , , 4 mal im Monat (durc…\n",
      "$ BahnhofHeim        \u001b[3m\u001b[90m<fct>\u001b[39m\u001b[23m , , Göttingen , , , Ahrensburg, , , , , , , , , , …\n",
      "$ BahnhofZiel        \u001b[3m\u001b[90m<fct>\u001b[39m\u001b[23m , , Hannover, , , Wandsbek-Gartenstadt, , , , , , …\n",
      "$ Ticket             \u001b[3m\u001b[90m<fct>\u001b[39m\u001b[23m , , A3, , , A1, , , , , , , , , , -oth-, , , , , ,…\n",
      "$ TicketSonst        \u001b[3m\u001b[90m<fct>\u001b[39m\u001b[23m , , , , , , , , , , , , , , , Einzelticket, , , , …\n",
      "$ PaketeProJahr      \u001b[3m\u001b[90m<fct>\u001b[39m\u001b[23m A1, A3, A4, A2, A2, A1, A2, A2, A3, A2, A3, , A4, …\n",
      "$ PaketPlatformen    \u001b[3m\u001b[90m<fct>\u001b[39m\u001b[23m , A2, A1, A2, A1, , A2, A2, A2, A2, A2, , A1, A2, …\n",
      "$ PreisBisher        \u001b[3m\u001b[90m<fct>\u001b[39m\u001b[23m , A3, A2, A3, A3, , A1, A3, A3, A3, A3, , A3, A2, …\n",
      "$ PreisEinschätzung  \u001b[3m\u001b[90m<fct>\u001b[39m\u001b[23m , A2, A3, A2, A2, , A3, A2, A2, A2, A3, , A3, A1, …\n",
      "$ AufNachhaltig      \u001b[3m\u001b[90m<fct>\u001b[39m\u001b[23m A2, A1, A1, A1, A1, A1, A2, A2, A2, A1, A1, , A1, …\n",
      "$ AufNachhaltigMenge \u001b[3m\u001b[90m<fct>\u001b[39m\u001b[23m , A4, A4, A2, A3, A2, , , , A2, A3, , A2, , , , , …\n",
      "$ GeschwBisher       \u001b[3m\u001b[90m<fct>\u001b[39m\u001b[23m , A3, A3, A3, A3, , A3, A2, A3, A4, A3, , A3, A3, …\n",
      "$ AufGeschw          \u001b[3m\u001b[90m<fct>\u001b[39m\u001b[23m , A1, A1, A1, A2, , A2, A1, A2, A2, A2, , A2, A2, …\n",
      "$ AufGeschwMenge     \u001b[3m\u001b[90m<fct>\u001b[39m\u001b[23m , A3, A4, A4, , , , A3, , , , , , , , A4, , , , , …\n",
      "$ Versicherung       \u001b[3m\u001b[90m<fct>\u001b[39m\u001b[23m , A1, A1, A2, -oth-, , A1, A2, A3, A3, A2, , A2, -…\n",
      "$ VersicherungSonst  \u001b[3m\u001b[90m<fct>\u001b[39m\u001b[23m , , , , kommt auf den Inhalt drauf an, , , , , , ,…\n",
      "$ App                \u001b[3m\u001b[90m<fct>\u001b[39m\u001b[23m , A1, A2, A1, A2, , A2, A1, A2, A2, A1, , A1, A2, …\n",
      "$ Tracking           \u001b[3m\u001b[90m<fct>\u001b[39m\u001b[23m , A3, A2, A2, A2, , A3, A1, A2, A2, A2, , A2, A1, …\n",
      "$ Abholen            \u001b[3m\u001b[90m<fct>\u001b[39m\u001b[23m A2, A1, A1, A1, A2, A1, A2, A1, A1, A1, A2, , A1, …\n",
      "$ GrundNichtAbholen  \u001b[3m\u001b[90m<fct>\u001b[39m\u001b[23m \"\", \"\", \"\", \"\", \"zu weit weg, zu viel Aufwand\", \"\"…\n",
      "$ Transport          \u001b[3m\u001b[90m<fct>\u001b[39m\u001b[23m A2, A2, A2, A1, A1, A1, A2, A1, A1, A1, A1, , A1, …\n",
      "$ TransportSpende    \u001b[3m\u001b[90m<fct>\u001b[39m\u001b[23m , , , A3, A3, A4, , A4, A3, A1, A1, , A3, A2, , A1…\n",
      "$ TransportGeld      \u001b[3m\u001b[90m<dbl>\u001b[39m\u001b[23m NA, NA, NA, 5, 5, 5, NA, 10, 5, 3, 10, NA, 7, 5, N…\n",
      "$ TransportNeinGrund \u001b[3m\u001b[90m<fct>\u001b[39m\u001b[23m \"Zuviel Aufwand und wahrscheinlich zu geringe Entl…\n",
      "$ TransportBoni      \u001b[3m\u001b[90m<fct>\u001b[39m\u001b[23m , , , A1, A1, A1, , A1, A1, A1, A1, , A1, A2, , A1…\n",
      "$ Kommentare         \u001b[3m\u001b[90m<fct>\u001b[39m\u001b[23m \"\", \"\", \"\", \"\", \"\", \"\", \"\", \"\", \"\", \"\", \"Wichtig i…\n",
      "$ Email              \u001b[3m\u001b[90m<fct>\u001b[39m\u001b[23m , , , , lucdob@web.de, , , , , , , , , , , Info@ha…\n"
     ]
    }
   ],
   "source": [
    "df <- survey_results[8:41]\n",
    "realNames <- c(\"Alter\",\"Gender\",\"Job\",\"Einkommen\",\"Bildung\",\"Pendel\",\"Pendel2\",\n",
    "                  \"Pendel2Sonst\",\"BahnhofHeim\",\"BahnhofZiel\",\"Ticket\",\"TicketSonst\", \n",
    "                  \"PaketeProJahr\",\"PaketPlatformen\",\"PreisBisher\",\"PreisEinschätzung\", \n",
    "                  \"AufNachhaltig\",\"AufNachhaltigMenge\",\"GeschwBisher\", \"AufGeschw\", \n",
    "                  \"AufGeschwMenge\",\"Versicherung\", \"VersicherungSonst\", \"App\",\n",
    "                  \"Tracking\",\"Abholen\",\"GrundNichtAbholen\",\"Transport\", \n",
    "                  \"TransportSpende\",\"TransportGeld\",\"TransportNeinGrund\",\n",
    "                  \"TransportBoni\",\"Kommentare\",\"Email\")\n",
    "colnames(df) <- realNames\n",
    "glimpse(df)"
   ]
  },
  {
   "cell_type": "markdown",
   "id": "73490f58",
   "metadata": {},
   "source": [
    "# Auswertung (Teilnehmer):"
   ]
  },
  {
   "cell_type": "code",
   "execution_count": 5,
   "id": "14a31dce",
   "metadata": {},
   "outputs": [
    {
     "name": "stderr",
     "output_type": "stream",
     "text": [
      "Warning message:\n",
      "“Removed 17 rows containing non-finite values (stat_bin).”\n"
     ]
    },
    {
     "data": {
      "image/png": "[encoded data removed]",
      "text/plain": [
       "plot without title"
      ]
     },
     "metadata": {
      "image/png": {
       "height": 420,
       "width": 420
      },
      "text/plain": {
       "height": 420,
       "width": 420
      }
     },
     "output_type": "display_data"
    }
   ],
   "source": [
    "ggplot(df, aes(Alter)) + geom_histogram(bins = 15)"
   ]
  },
  {
   "cell_type": "code",
   "execution_count": 6,
   "id": "679a22d8",
   "metadata": {},
   "outputs": [
    {
     "data": {
      "text/plain": [
       "\n",
       "    NA   Male Female \n",
       "    17     74     40 "
      ]
     },
     "metadata": {},
     "output_type": "display_data"
    }
   ],
   "source": [
    "df$Gender <- as.factor(df$Gender)\n",
    "levels(df$Gender) <- c(\"NA\", \"Male\", \"Female\")  # \"Divers\" hatte keine Einträge\n",
    "table(df$Gender)\n",
    "# ggplot(df, aes(Gender)) + geom_bar()"
   ]
  },
  {
   "cell_type": "code",
   "execution_count": 7,
   "id": "7bf3391e",
   "metadata": {},
   "outputs": [
    {
     "data": {
      "text/plain": [
       "\n",
       "       NA      <500  500-1000 1000-1500 1500-2500     >2500 \n",
       "       25        20        37        13        18        18 "
      ]
     },
     "metadata": {},
     "output_type": "display_data"
    },
    {
     "data": {
      "image/png": "[encoded data removed]",
      "text/plain": [
       "plot without title"
      ]
     },
     "metadata": {
      "image/png": {
       "height": 420,
       "width": 420
      },
      "text/plain": {
       "height": 420,
       "width": 420
      }
     },
     "output_type": "display_data"
    }
   ],
   "source": [
    "df$Einkommen <- as.factor(df$Einkommen)\n",
    "levels(df$Einkommen) <- c(\"NA\", \"<500\", \"500-1000\", \"1000-1500\", \"1500-2500\", \">2500\")\n",
    "table(df$Einkommen)\n",
    "\n",
    "ggplot(subset(df, Einkommen!=\"NA\"), aes(Einkommen)) + geom_bar()"
   ]
  },
  {
   "cell_type": "code",
   "execution_count": 8,
   "id": "67481b87",
   "metadata": {},
   "outputs": [
    {
     "data": {
      "text/plain": [
       "\n",
       "    NA    Zug Anders   Nein \n",
       "    17     12     13     89 "
      ]
     },
     "metadata": {},
     "output_type": "display_data"
    },
    {
     "name": "stdout",
     "output_type": "stream",
     "text": [
      "[1] \"Anteil zugfahrende Pendler:\"\n"
     ]
    },
    {
     "data": {
      "text/html": [
       "0.105263157894737"
      ],
      "text/latex": [
       "0.105263157894737"
      ],
      "text/markdown": [
       "0.105263157894737"
      ],
      "text/plain": [
       "[1] 0.1052632"
      ]
     },
     "metadata": {},
     "output_type": "display_data"
    },
    {
     "name": "stdout",
     "output_type": "stream",
     "text": [
      "[1] \"Anteil Studententickets (sehr wenige Daten):\"\n"
     ]
    },
    {
     "data": {
      "text/html": [
       "0.166666666666667"
      ],
      "text/latex": [
       "0.166666666666667"
      ],
      "text/markdown": [
       "0.166666666666667"
      ],
      "text/plain": [
       "[1] 0.1666667"
      ]
     },
     "metadata": {},
     "output_type": "display_data"
    }
   ],
   "source": [
    "# Viele Pendler?\n",
    "df$Pendel <- as.factor(df$Pendel)\n",
    "levels(df$Pendel) <- c(\"NA\", \"Zug\", \"Anders\", \"Nein\")\n",
    "table(df$Pendel)\n",
    "\n",
    "anteilZug <- sum(df$Pendel == \"Zug\")/sum(df$Pendel != \"NA\")\n",
    "print(\"Anteil zugfahrende Pendler:\")\n",
    "anteilZug\n",
    "\n",
    "df$Ticket <- as.factor(df$Ticket)\n",
    "levels(df$Ticket) <- c(\"NA\", \"Sonst\", \"Monat\", \"Jahr\", \"Studenten\")\n",
    "# table(df$Ticket)\n",
    "print(\"Anteil Studententickets (sehr wenige Daten):\")\n",
    "sum(df$Ticket == \"Studenten\")/sum(df$Ticket != \"NA\") # EXTREM wenige Daten -> nicht aussagekräftig"
   ]
  },
  {
   "cell_type": "markdown",
   "id": "8d354a7f",
   "metadata": {},
   "source": [
    "# Auswertung (zentrale Daten):"
   ]
  },
  {
   "cell_type": "code",
   "execution_count": 9,
   "id": "baff9ea4",
   "metadata": {},
   "outputs": [
    {
     "data": {
      "text/html": [
       "<table class=\"dataframe\">\n",
       "<caption>A data.frame: 6 × 5</caption>\n",
       "<thead>\n",
       "\t<tr><th scope=col>Var1</th><th scope=col>Freq</th><th scope=col>relFreq</th><th scope=col>groupMid</th><th scope=col>mult</th></tr>\n",
       "\t<tr><th scope=col>&lt;fct&gt;</th><th scope=col>&lt;int&gt;</th><th scope=col>&lt;dbl&gt;</th><th scope=col>&lt;dbl&gt;</th><th scope=col>&lt;dbl&gt;</th></tr>\n",
       "</thead>\n",
       "<tbody>\n",
       "\t<tr><td>NA  </td><td>43</td><td>0.48863636</td><td> 0</td><td>0.00000000</td></tr>\n",
       "\t<tr><td><span style=white-space:pre-wrap>&lt;2  </span></td><td> 6</td><td>0.06818182</td><td> 1</td><td>0.06818182</td></tr>\n",
       "\t<tr><td>2-4 </td><td>27</td><td>0.30681818</td><td> 3</td><td>0.92045455</td></tr>\n",
       "\t<tr><td>4-8 </td><td>49</td><td>0.55681818</td><td> 6</td><td>3.34090909</td></tr>\n",
       "\t<tr><td>8-14</td><td> 4</td><td>0.04545455</td><td>11</td><td>0.50000000</td></tr>\n",
       "\t<tr><td>&gt;14 </td><td> 2</td><td>0.02272727</td><td>14</td><td>0.31818182</td></tr>\n",
       "</tbody>\n",
       "</table>\n"
      ],
      "text/latex": [
       "A data.frame: 6 × 5\n",
       "\\begin{tabular}{lllll}\n",
       " Var1 & Freq & relFreq & groupMid & mult\\\\\n",
       " <fct> & <int> & <dbl> & <dbl> & <dbl>\\\\\n",
       "\\hline\n",
       "\t NA   & 43 & 0.48863636 &  0 & 0.00000000\\\\\n",
       "\t <2   &  6 & 0.06818182 &  1 & 0.06818182\\\\\n",
       "\t 2-4  & 27 & 0.30681818 &  3 & 0.92045455\\\\\n",
       "\t 4-8  & 49 & 0.55681818 &  6 & 3.34090909\\\\\n",
       "\t 8-14 &  4 & 0.04545455 & 11 & 0.50000000\\\\\n",
       "\t >14  &  2 & 0.02272727 & 14 & 0.31818182\\\\\n",
       "\\end{tabular}\n"
      ],
      "text/markdown": [
       "\n",
       "A data.frame: 6 × 5\n",
       "\n",
       "| Var1 &lt;fct&gt; | Freq &lt;int&gt; | relFreq &lt;dbl&gt; | groupMid &lt;dbl&gt; | mult &lt;dbl&gt; |\n",
       "|---|---|---|---|---|\n",
       "| NA   | 43 | 0.48863636 |  0 | 0.00000000 |\n",
       "| &lt;2   |  6 | 0.06818182 |  1 | 0.06818182 |\n",
       "| 2-4  | 27 | 0.30681818 |  3 | 0.92045455 |\n",
       "| 4-8  | 49 | 0.55681818 |  6 | 3.34090909 |\n",
       "| 8-14 |  4 | 0.04545455 | 11 | 0.50000000 |\n",
       "| &gt;14  |  2 | 0.02272727 | 14 | 0.31818182 |\n",
       "\n"
      ],
      "text/plain": [
       "  Var1 Freq relFreq    groupMid mult      \n",
       "1 NA   43   0.48863636  0       0.00000000\n",
       "2 <2    6   0.06818182  1       0.06818182\n",
       "3 2-4  27   0.30681818  3       0.92045455\n",
       "4 4-8  49   0.55681818  6       3.34090909\n",
       "5 8-14  4   0.04545455 11       0.50000000\n",
       "6 >14   2   0.02272727 14       0.31818182"
      ]
     },
     "metadata": {},
     "output_type": "display_data"
    },
    {
     "name": "stdout",
     "output_type": "stream",
     "text": [
      "[1] \"Bisheriger Preis (Arithmetisches Mittel bei gruppierten Daten):\"\n"
     ]
    },
    {
     "data": {
      "text/html": [
       "5.15"
      ],
      "text/latex": [
       "5.15"
      ],
      "text/markdown": [
       "5.15"
      ],
      "text/plain": [
       "[1] 5.15"
      ]
     },
     "metadata": {},
     "output_type": "display_data"
    },
    {
     "name": "stdout",
     "output_type": "stream",
     "text": [
      "[1] \"Einschätzung bisheriger Preise\"\n"
     ]
    },
    {
     "data": {
      "text/plain": [
       "\n",
       "        NA      teuer  etw teuer        gut etw billig     billig \n",
       "        44          5         39         40          3          0 "
      ]
     },
     "metadata": {},
     "output_type": "display_data"
    }
   ],
   "source": [
    "# Analyse von bisherigen Preisen\n",
    "df$PreisBisher <- as.factor(df$PreisBisher)\n",
    "levels(df$PreisBisher) <- c(\"NA\", \"<2\", \"2-4\", \"4-8\", \"8-14\", \">14\")\n",
    "t <- as.data.frame(table(df$PreisBisher))\n",
    "\n",
    "n <- sum(df$PreisBisher != \"NA\")\n",
    "t$relFreq <- t$Freq/n\n",
    "t$groupMid <- c(0, 1, 3, 6, 11, 14)\n",
    "t$mult <- t$relFreq*t$groupMid\n",
    "t\n",
    "print(\"Bisheriger Preis (Arithmetisches Mittel bei gruppierten Daten):\")\n",
    "mittelPreisBisher <- round(sum(t$mult), 2)\n",
    "mittelPreisBisher\n",
    "\n",
    "print(\"Einschätzung bisheriger Preise\")\n",
    "df$PreisEinschätzung <- as.factor(df$PreisEinschätzung)\n",
    "levels(df$PreisEinschätzung) <- c(\"NA\", \"teuer\", \"etw teuer\", \"gut\", \"etw billig\", \"billig\")\n",
    "table(df$PreisEinschätzung)"
   ]
  },
  {
   "cell_type": "code",
   "execution_count": 10,
   "id": "d327ac04",
   "metadata": {},
   "outputs": [
    {
     "data": {
      "text/plain": [
       "\n",
       "  NA   Ja Nein \n",
       "  21   74   36 "
      ]
     },
     "metadata": {},
     "output_type": "display_data"
    },
    {
     "data": {
      "text/html": [
       "110"
      ],
      "text/latex": [
       "110"
      ],
      "text/markdown": [
       "110"
      ],
      "text/plain": [
       "[1] 110"
      ]
     },
     "metadata": {},
     "output_type": "display_data"
    },
    {
     "name": "stdout",
     "output_type": "stream",
     "text": [
      "[1] \"Würden mehr bezahlen (Anteil):\"\n"
     ]
    },
    {
     "data": {
      "text/html": [
       "0.67"
      ],
      "text/latex": [
       "0.67"
      ],
      "text/markdown": [
       "0.67"
      ],
      "text/plain": [
       "[1] 0.67"
      ]
     },
     "metadata": {},
     "output_type": "display_data"
    },
    {
     "name": "stdout",
     "output_type": "stream",
     "text": [
      "[1] \"Als Anzahl von Studierenden in Göttingen:\"\n"
     ]
    },
    {
     "data": {
      "text/html": [
       "20855"
      ],
      "text/latex": [
       "20855"
      ],
      "text/markdown": [
       "20855"
      ],
      "text/plain": [
       "[1] 20855"
      ]
     },
     "metadata": {},
     "output_type": "display_data"
    }
   ],
   "source": [
    "# Analyse von Aufschlag für Nachhaltigkeit\n",
    "df$AufNachhaltig <- as.factor(df$AufNachhaltig)\n",
    "levels(df$AufNachhaltig) <- c(\"NA\", \"Ja\", \"Nein\")\n",
    "\n",
    "table(df$AufNachhaltig)\n",
    "n = sum(df$AufNachhaltig != \"NA\")\n",
    "n\n",
    "print(\"Würden mehr bezahlen (Anteil):\")\n",
    "jaAnteil = sum(df$AufNachhaltig == \"Ja\")/n\n",
    "round(jaAnteil, 2)\n",
    "\n",
    "zahlStudierende = 31000  # Quelle: https://www.uni-goettingen.de/de/zahlen+-+daten+-+fakten/626482.html (2019/2020)\n",
    "vltInteressiert = zahlStudierende*jaAnteil\n",
    "print(\"Als Anzahl von Studierenden in Göttingen:\")\n",
    "round(vltInteressiert)\n",
    "\n",
    "# ggplot(subset(df, AufNachhaltig!=\"NA\"), aes(AufNachhaltig)) + geom_bar()"
   ]
  },
  {
   "cell_type": "code",
   "execution_count": 11,
   "id": "c8af5ade",
   "metadata": {},
   "outputs": [
    {
     "data": {
      "text/html": [
       "<table class=\"dataframe\">\n",
       "<caption>A data.frame: 6 × 5</caption>\n",
       "<thead>\n",
       "\t<tr><th scope=col>Var1</th><th scope=col>Freq</th><th scope=col>relFreq</th><th scope=col>groupMid</th><th scope=col>mult</th></tr>\n",
       "\t<tr><th scope=col>&lt;fct&gt;</th><th scope=col>&lt;int&gt;</th><th scope=col>&lt;dbl&gt;</th><th scope=col>&lt;dbl&gt;</th><th scope=col>&lt;dbl&gt;</th></tr>\n",
       "</thead>\n",
       "<tbody>\n",
       "\t<tr><td>NA   </td><td> 0</td><td>0.00000000</td><td>0.00</td><td>0.00000000</td></tr>\n",
       "\t<tr><td>&lt;0,5 </td><td> 3</td><td>0.04054054</td><td>0.25</td><td>0.01013514</td></tr>\n",
       "\t<tr><td>0,5-1</td><td>19</td><td>0.25675676</td><td>0.75</td><td>0.19256757</td></tr>\n",
       "\t<tr><td>1-2  </td><td>25</td><td>0.33783784</td><td>1.50</td><td>0.50675676</td></tr>\n",
       "\t<tr><td>2-3  </td><td>21</td><td>0.28378378</td><td>2.50</td><td>0.70945946</td></tr>\n",
       "\t<tr><td><span style=white-space:pre-wrap>&gt;3   </span></td><td> 6</td><td>0.08108108</td><td>3.00</td><td>0.24324324</td></tr>\n",
       "</tbody>\n",
       "</table>\n"
      ],
      "text/latex": [
       "A data.frame: 6 × 5\n",
       "\\begin{tabular}{lllll}\n",
       " Var1 & Freq & relFreq & groupMid & mult\\\\\n",
       " <fct> & <int> & <dbl> & <dbl> & <dbl>\\\\\n",
       "\\hline\n",
       "\t NA    &  0 & 0.00000000 & 0.00 & 0.00000000\\\\\n",
       "\t <0,5  &  3 & 0.04054054 & 0.25 & 0.01013514\\\\\n",
       "\t 0,5-1 & 19 & 0.25675676 & 0.75 & 0.19256757\\\\\n",
       "\t 1-2   & 25 & 0.33783784 & 1.50 & 0.50675676\\\\\n",
       "\t 2-3   & 21 & 0.28378378 & 2.50 & 0.70945946\\\\\n",
       "\t >3    &  6 & 0.08108108 & 3.00 & 0.24324324\\\\\n",
       "\\end{tabular}\n"
      ],
      "text/markdown": [
       "\n",
       "A data.frame: 6 × 5\n",
       "\n",
       "| Var1 &lt;fct&gt; | Freq &lt;int&gt; | relFreq &lt;dbl&gt; | groupMid &lt;dbl&gt; | mult &lt;dbl&gt; |\n",
       "|---|---|---|---|---|\n",
       "| NA    |  0 | 0.00000000 | 0.00 | 0.00000000 |\n",
       "| &lt;0,5  |  3 | 0.04054054 | 0.25 | 0.01013514 |\n",
       "| 0,5-1 | 19 | 0.25675676 | 0.75 | 0.19256757 |\n",
       "| 1-2   | 25 | 0.33783784 | 1.50 | 0.50675676 |\n",
       "| 2-3   | 21 | 0.28378378 | 2.50 | 0.70945946 |\n",
       "| &gt;3    |  6 | 0.08108108 | 3.00 | 0.24324324 |\n",
       "\n"
      ],
      "text/plain": [
       "  Var1  Freq relFreq    groupMid mult      \n",
       "1 NA     0   0.00000000 0.00     0.00000000\n",
       "2 <0,5   3   0.04054054 0.25     0.01013514\n",
       "3 0,5-1 19   0.25675676 0.75     0.19256757\n",
       "4 1-2   25   0.33783784 1.50     0.50675676\n",
       "5 2-3   21   0.28378378 2.50     0.70945946\n",
       "6 >3     6   0.08108108 3.00     0.24324324"
      ]
     },
     "metadata": {},
     "output_type": "display_data"
    },
    {
     "name": "stdout",
     "output_type": "stream",
     "text": [
      "[1] \"Erwarteter Aufschlag für Nachhaltigkeit (Arithmetisches Mittel bei gruppierten Daten):\"\n"
     ]
    },
    {
     "data": {
      "text/html": [
       "1.66"
      ],
      "text/latex": [
       "1.66"
      ],
      "text/markdown": [
       "1.66"
      ],
      "text/plain": [
       "[1] 1.66"
      ]
     },
     "metadata": {},
     "output_type": "display_data"
    }
   ],
   "source": [
    "# Analyse von Aufschlag für Nachhaltigkeit (Menge)\n",
    "df$AufNachhaltigMenge <- as.factor(df$AufNachhaltigMenge)\n",
    "levels(df$AufNachhaltigMenge) <- c(\"NA\",\"<0,5\", \"0,5-1\", \"1-2\",\"2-3\",\">3\")\n",
    "t <- as.data.frame(table(subset(df, AufNachhaltigMenge!=\"NA\")$AufNachhaltigMenge))\n",
    "n <- sum(df$AufNachhaltigMenge != \"NA\")\n",
    "t$relFreq <- t$Freq/n\n",
    "t$groupMid <- c(0, 0.25, 0.75, 1.5, 2.5, 3)\n",
    "t$mult <- t$relFreq*t$groupMid\n",
    "t\n",
    "print(\"Erwarteter Aufschlag für Nachhaltigkeit (Arithmetisches Mittel bei gruppierten Daten):\")\n",
    "aufNach <- round(sum(t$mult), 2)\n",
    "aufNach\n",
    "\n",
    "# ggplot(subset(df, AufNachhaltigMenge!=\"NA\"), aes(AufNachhaltigMenge)) + geom_bar()"
   ]
  },
  {
   "cell_type": "code",
   "execution_count": 12,
   "id": "8e629a79",
   "metadata": {},
   "outputs": [
    {
     "data": {
      "text/plain": [
       "\n",
       "  NA   Ja Nein \n",
       "  44   38   49 "
      ]
     },
     "metadata": {},
     "output_type": "display_data"
    },
    {
     "data": {
      "text/html": [
       "87"
      ],
      "text/latex": [
       "87"
      ],
      "text/markdown": [
       "87"
      ],
      "text/plain": [
       "[1] 87"
      ]
     },
     "metadata": {},
     "output_type": "display_data"
    },
    {
     "name": "stdout",
     "output_type": "stream",
     "text": [
      "[1] \"Würden mehr bezahlen (Anteil):\"\n"
     ]
    },
    {
     "data": {
      "text/html": [
       "0.44"
      ],
      "text/latex": [
       "0.44"
      ],
      "text/markdown": [
       "0.44"
      ],
      "text/plain": [
       "[1] 0.44"
      ]
     },
     "metadata": {},
     "output_type": "display_data"
    },
    {
     "name": "stdout",
     "output_type": "stream",
     "text": [
      "[1] \"Als Anzahl von Studierenden in Göttingen:\"\n"
     ]
    },
    {
     "data": {
      "text/html": [
       "13540"
      ],
      "text/latex": [
       "13540"
      ],
      "text/markdown": [
       "13540"
      ],
      "text/plain": [
       "[1] 13540"
      ]
     },
     "metadata": {},
     "output_type": "display_data"
    }
   ],
   "source": [
    "# Analyse von Aufschlag für Geschwindigkeit\n",
    "df$AufGeschw <- as.factor(df$AufGeschw)\n",
    "levels(df$AufGeschw) <- c(\"NA\", \"Ja\", \"Nein\")\n",
    "\n",
    "table(df$AufGeschw)\n",
    "n = sum(df$AufGeschw != \"NA\")\n",
    "n\n",
    "print(\"Würden mehr bezahlen (Anteil):\")\n",
    "jaAnteil = sum(df$AufGeschw == \"Ja\")/n\n",
    "round(jaAnteil, 2)\n",
    "\n",
    "zahlStudierende = 31000  # Quelle: https://www.uni-goettingen.de/de/zahlen+-+daten+-+fakten/626482.html (2019/2020)\n",
    "vltInteressiert = zahlStudierende*jaAnteil\n",
    "print(\"Als Anzahl von Studierenden in Göttingen:\")\n",
    "round(vltInteressiert)\n",
    "\n",
    "# ggplot(subset(df, AufGeschw!=\"NA\"), aes(AufGeschw)) + geom_bar()"
   ]
  },
  {
   "cell_type": "code",
   "execution_count": 13,
   "id": "0b6e9e7c",
   "metadata": {},
   "outputs": [
    {
     "data": {
      "text/html": [
       "<table class=\"dataframe\">\n",
       "<caption>A data.frame: 6 × 5</caption>\n",
       "<thead>\n",
       "\t<tr><th scope=col>Var1</th><th scope=col>Freq</th><th scope=col>relFreq</th><th scope=col>groupMid</th><th scope=col>mult</th></tr>\n",
       "\t<tr><th scope=col>&lt;fct&gt;</th><th scope=col>&lt;int&gt;</th><th scope=col>&lt;dbl&gt;</th><th scope=col>&lt;dbl&gt;</th><th scope=col>&lt;dbl&gt;</th></tr>\n",
       "</thead>\n",
       "<tbody>\n",
       "\t<tr><td>NA   </td><td> 0</td><td>0.00000000</td><td>0.00</td><td>0.000000000</td></tr>\n",
       "\t<tr><td>&lt;0,5 </td><td> 1</td><td>0.02631579</td><td>0.25</td><td>0.006578947</td></tr>\n",
       "\t<tr><td>0,5-1</td><td>10</td><td>0.26315789</td><td>0.75</td><td>0.197368421</td></tr>\n",
       "\t<tr><td>1-2  </td><td>12</td><td>0.31578947</td><td>1.50</td><td>0.473684211</td></tr>\n",
       "\t<tr><td>2-3  </td><td>11</td><td>0.28947368</td><td>2.50</td><td>0.723684211</td></tr>\n",
       "\t<tr><td><span style=white-space:pre-wrap>&gt;3   </span></td><td> 4</td><td>0.10526316</td><td>3.00</td><td>0.315789474</td></tr>\n",
       "</tbody>\n",
       "</table>\n"
      ],
      "text/latex": [
       "A data.frame: 6 × 5\n",
       "\\begin{tabular}{lllll}\n",
       " Var1 & Freq & relFreq & groupMid & mult\\\\\n",
       " <fct> & <int> & <dbl> & <dbl> & <dbl>\\\\\n",
       "\\hline\n",
       "\t NA    &  0 & 0.00000000 & 0.00 & 0.000000000\\\\\n",
       "\t <0,5  &  1 & 0.02631579 & 0.25 & 0.006578947\\\\\n",
       "\t 0,5-1 & 10 & 0.26315789 & 0.75 & 0.197368421\\\\\n",
       "\t 1-2   & 12 & 0.31578947 & 1.50 & 0.473684211\\\\\n",
       "\t 2-3   & 11 & 0.28947368 & 2.50 & 0.723684211\\\\\n",
       "\t >3    &  4 & 0.10526316 & 3.00 & 0.315789474\\\\\n",
       "\\end{tabular}\n"
      ],
      "text/markdown": [
       "\n",
       "A data.frame: 6 × 5\n",
       "\n",
       "| Var1 &lt;fct&gt; | Freq &lt;int&gt; | relFreq &lt;dbl&gt; | groupMid &lt;dbl&gt; | mult &lt;dbl&gt; |\n",
       "|---|---|---|---|---|\n",
       "| NA    |  0 | 0.00000000 | 0.00 | 0.000000000 |\n",
       "| &lt;0,5  |  1 | 0.02631579 | 0.25 | 0.006578947 |\n",
       "| 0,5-1 | 10 | 0.26315789 | 0.75 | 0.197368421 |\n",
       "| 1-2   | 12 | 0.31578947 | 1.50 | 0.473684211 |\n",
       "| 2-3   | 11 | 0.28947368 | 2.50 | 0.723684211 |\n",
       "| &gt;3    |  4 | 0.10526316 | 3.00 | 0.315789474 |\n",
       "\n"
      ],
      "text/plain": [
       "  Var1  Freq relFreq    groupMid mult       \n",
       "1 NA     0   0.00000000 0.00     0.000000000\n",
       "2 <0,5   1   0.02631579 0.25     0.006578947\n",
       "3 0,5-1 10   0.26315789 0.75     0.197368421\n",
       "4 1-2   12   0.31578947 1.50     0.473684211\n",
       "5 2-3   11   0.28947368 2.50     0.723684211\n",
       "6 >3     4   0.10526316 3.00     0.315789474"
      ]
     },
     "metadata": {},
     "output_type": "display_data"
    },
    {
     "name": "stdout",
     "output_type": "stream",
     "text": [
      "[1] \"Erwarteter Aufschlag für Geschwindigkeit (Arithmetisches Mittel bei gruppierten Daten):\"\n"
     ]
    },
    {
     "data": {
      "text/html": [
       "1.72"
      ],
      "text/latex": [
       "1.72"
      ],
      "text/markdown": [
       "1.72"
      ],
      "text/plain": [
       "[1] 1.72"
      ]
     },
     "metadata": {},
     "output_type": "display_data"
    }
   ],
   "source": [
    "# Analyse von Aufschlag für Geschwindigkeit (Menge)\n",
    "df$AufGeschwMenge <- as.factor(df$AufGeschwMenge)\n",
    "levels(df$AufGeschwMenge) <- c(\"NA\",\"<0,5\", \"0,5-1\", \"1-2\",\"2-3\",\">3\")\n",
    "t <- as.data.frame(table(subset(df, AufGeschwMenge!=\"NA\")$AufGeschwMenge))\n",
    "n <- sum(df$AufGeschwMenge != \"NA\")\n",
    "t$relFreq <- t$Freq/n\n",
    "t$groupMid <- c(0, 0.25, 0.75, 1.5, 2.5, 3)\n",
    "t$mult <- t$relFreq*t$groupMid\n",
    "t\n",
    "print(\"Erwarteter Aufschlag für Geschwindigkeit (Arithmetisches Mittel bei gruppierten Daten):\")\n",
    "aufGes <- round(sum(t$mult), 2)\n",
    "aufGes\n",
    "\n",
    "# ggplot(subset(df, AufGeschwMenge!=\"NA\"), aes(AufGeschwMenge)) + geom_bar()"
   ]
  },
  {
   "cell_type": "code",
   "execution_count": 14,
   "id": "11054567",
   "metadata": {},
   "outputs": [
    {
     "data": {
      "text/plain": [
       "\n",
       "          NA        Sonst Sehr wichtig      wichtig    unwichtig \n",
       "          44            8           12           42           25 "
      ]
     },
     "metadata": {},
     "output_type": "display_data"
    },
    {
     "name": "stdout",
     "output_type": "stream",
     "text": [
      "[1] \"Versicherung scheint wichtig zu sein.\"\n"
     ]
    }
   ],
   "source": [
    "# Versicherung\n",
    "df$Versicherung <- as.factor(df$Versicherung)\n",
    "levels(df$Versicherung) <- c(\"NA\", \"Sonst\", \"Sehr wichtig\", \"wichtig\", \"unwichtig\")\n",
    "table(df$Versicherung)\n",
    "print(\"Versicherung scheint wichtig zu sein.\")"
   ]
  },
  {
   "cell_type": "code",
   "execution_count": 15,
   "id": "0aee3a9c",
   "metadata": {},
   "outputs": [
    {
     "data": {
      "text/plain": [
       "\n",
       "           NA  sehr wichtig etwas wichtig     unwichtig \n",
       "           44            33            36            18 "
      ]
     },
     "metadata": {},
     "output_type": "display_data"
    },
    {
     "name": "stdout",
     "output_type": "stream",
     "text": [
      "[1] \"Tracking scheint wichtig zu sein.\"\n"
     ]
    }
   ],
   "source": [
    "# Tracking\n",
    "df$Tracking <- as.factor(df$Tracking)\n",
    "levels(df$Tracking) <- c(\"NA\", \"sehr wichtig\", \"etwas wichtig\", \"unwichtig\")\n",
    "table(df$Tracking)\n",
    "print(\"Tracking scheint wichtig zu sein.\")"
   ]
  },
  {
   "cell_type": "code",
   "execution_count": 16,
   "id": "4bc9ecfe",
   "metadata": {},
   "outputs": [
    {
     "data": {
      "text/plain": [
       "\n",
       "  NA   Ja Nein \n",
       "  21   71   39 "
      ]
     },
     "metadata": {},
     "output_type": "display_data"
    },
    {
     "name": "stdout",
     "output_type": "stream",
     "text": [
      "[1] \"Anteil die Abholen würden:\"\n"
     ]
    },
    {
     "data": {
      "text/html": [
       "0.65"
      ],
      "text/latex": [
       "0.65"
      ],
      "text/markdown": [
       "0.65"
      ],
      "text/plain": [
       "[1] 0.65"
      ]
     },
     "metadata": {},
     "output_type": "display_data"
    }
   ],
   "source": [
    "# Abholen\n",
    "df$Abholen <- as.factor(df$Abholen)\n",
    "levels(df$Abholen) <- c(\"NA\", \"Ja\", \"Nein\")\n",
    "table(df$Abholen)\n",
    "print(\"Anteil die Abholen würden:\")\n",
    "round(sum(df$Abholen == \"Ja\")/sum(df$Abholen != \"NA\"), 2)"
   ]
  },
  {
   "cell_type": "code",
   "execution_count": 17,
   "id": "fa3a6d53",
   "metadata": {},
   "outputs": [
    {
     "data": {
      "text/plain": [
       "\n",
       "  NA   Ja Nein \n",
       "  25   79   27 "
      ]
     },
     "metadata": {},
     "output_type": "display_data"
    },
    {
     "name": "stdout",
     "output_type": "stream",
     "text": [
      "[1] \"Anteil die Transportieren würden (für Geld):\"\n"
     ]
    },
    {
     "data": {
      "text/html": [
       "0.75"
      ],
      "text/latex": [
       "0.75"
      ],
      "text/markdown": [
       "0.75"
      ],
      "text/plain": [
       "[1] 0.75"
      ]
     },
     "metadata": {},
     "output_type": "display_data"
    }
   ],
   "source": [
    "# Transportieren\n",
    "df$Transport <- as.factor(df$Transport)\n",
    "levels(df$Transport) <- c(\"NA\", \"Ja\", \"Nein\")\n",
    "table(df$Transport)\n",
    "print(\"Anteil die Transportieren würden (für Geld):\")\n",
    "round(sum(df$Transport == \"Ja\")/sum(df$Transport != \"NA\"), 2)"
   ]
  },
  {
   "cell_type": "code",
   "execution_count": 18,
   "id": "32cb41e3",
   "metadata": {},
   "outputs": [
    {
     "data": {
      "text/plain": [
       "\n",
       "       NA        Ja   Eher ja Eher nein      Nein \n",
       "       52        25         6        27        21 "
      ]
     },
     "metadata": {},
     "output_type": "display_data"
    },
    {
     "name": "stdout",
     "output_type": "stream",
     "text": [
      "[1] \"Anteil die Transportieren würden (bei Spenden):\"\n"
     ]
    },
    {
     "data": {
      "text/html": [
       "0.39"
      ],
      "text/latex": [
       "0.39"
      ],
      "text/markdown": [
       "0.39"
      ],
      "text/plain": [
       "[1] 0.39"
      ]
     },
     "metadata": {},
     "output_type": "display_data"
    }
   ],
   "source": [
    "df$TransportSpende <- as.factor(df$TransportSpende)\n",
    "levels(df$TransportSpende) <- c(\"NA\", \"Ja\", \"Eher ja\", \"Eher nein\", \"Nein\")\n",
    "table(df$TransportSpende)\n",
    "print(\"Anteil die Transportieren würden (bei Spenden):\")\n",
    "round((sum(df$TransportSpende == \"Ja\")+sum(df$TransportSpende == \"Eher ja\"))/sum(df$TransportSpende != \"NA\"), 2)"
   ]
  },
  {
   "cell_type": "code",
   "execution_count": 19,
   "id": "f320a4b6",
   "metadata": {
    "scrolled": true
   },
   "outputs": [
    {
     "name": "stdout",
     "output_type": "stream",
     "text": [
      "[1] \"Durchschnittliche erwartete Bezahlung:\"\n"
     ]
    },
    {
     "data": {
      "text/html": [
       "6.16"
      ],
      "text/latex": [
       "6.16"
      ],
      "text/markdown": [
       "6.16"
      ],
      "text/plain": [
       "[1] 6.16"
      ]
     },
     "metadata": {},
     "output_type": "display_data"
    },
    {
     "name": "stdout",
     "output_type": "stream",
     "text": [
      "[1] \"Preis bisher - erwartete Bezahlung + Aufschalg für Nachhaltigkeit:\"\n"
     ]
    },
    {
     "data": {
      "text/html": [
       "0.65"
      ],
      "text/latex": [
       "0.65"
      ],
      "text/markdown": [
       "0.65"
      ],
      "text/plain": [
       "[1] 0.65"
      ]
     },
     "metadata": {},
     "output_type": "display_data"
    },
    {
     "name": "stdout",
     "output_type": "stream",
     "text": [
      "[1] \"Preis bisher - erwartete Bezahlung + Aufschalg für Geschwindigkeit:\"\n"
     ]
    },
    {
     "data": {
      "text/html": [
       "0.71"
      ],
      "text/latex": [
       "0.71"
      ],
      "text/markdown": [
       "0.71"
      ],
      "text/plain": [
       "[1] 0.71"
      ]
     },
     "metadata": {},
     "output_type": "display_data"
    }
   ],
   "source": [
    "# Transportieren gegen wie viel Geld? \n",
    "#TODO keep working here !\n",
    "\n",
    "transportBezahlung <- na.omit(df$TransportGeld)\n",
    "print(\"Durchschnittliche erwartete Bezahlung:\")\n",
    "erwBez <- round(mean(transportBezahlung), 2)\n",
    "erwBez\n",
    "\n",
    "print(\"Preis bisher - erwartete Bezahlung + Aufschlag für Nachhaltigkeit:\")\n",
    "mittelPreisBisher - erwBez + aufNach\n",
    "print(\"Preis bisher - erwartete Bezahlung + Aufschlag für Geschwindigkeit:\")\n",
    "mittelPreisBisher - erwBez + aufGes\n",
    "\n",
    "# ggplot(as.data.frame(transportBezahlung), aes(transportBezahlung)) + geom_histogram(bins = 15)"
   ]
  },
  {
   "cell_type": "code",
   "execution_count": null,
   "id": "640fa217",
   "metadata": {},
   "outputs": [],
   "source": []
  },
  {
   "cell_type": "code",
   "execution_count": 20,
   "id": "a0dea600",
   "metadata": {},
   "outputs": [
    {
     "name": "stdout",
     "output_type": "stream",
     "text": [
      "[1] \"Anteil Email Adressen:\"\n"
     ]
    },
    {
     "data": {
      "text/html": [
       "0.08"
      ],
      "text/latex": [
       "0.08"
      ],
      "text/markdown": [
       "0.08"
      ],
      "text/plain": [
       "[1] 0.08"
      ]
     },
     "metadata": {},
     "output_type": "display_data"
    },
    {
     "name": "stdout",
     "output_type": "stream",
     "text": [
      "[1] \"Nur wenige Email Adressen erhalten.\"\n"
     ]
    }
   ],
   "source": [
    "# Emails\n",
    "\n",
    "print(\"Anteil Email Adressen:\")\n",
    "round(sum(df$Email != \"\")/length(df$Email), 2)\n",
    "print(\"Nur wenige Email Adressen erhalten.\")"
   ]
  },
  {
   "cell_type": "code",
   "execution_count": null,
   "id": "9298f50e-7f02-46d1-b348-8188c50882a9",
   "metadata": {},
   "outputs": [],
   "source": []
  }
 ],
 "metadata": {
  "kernelspec": {
   "display_name": "R",
   "language": "R",
   "name": "ir"
  },
  "language_info": {
   "codemirror_mode": "r",
   "file_extension": ".r",
   "mimetype": "text/x-r-source",
   "name": "R",
   "pygments_lexer": "r",
   "version": "3.6.3"
  }
 },
 "nbformat": 4,
 "nbformat_minor": 5
}
